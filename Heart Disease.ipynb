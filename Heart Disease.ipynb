{
 "cells": [
  {
   "cell_type": "code",
   "execution_count": 1,
   "metadata": {},
   "outputs": [],
   "source": [
    "import pandas as pd\n",
    "import numpy as np\n",
    "import seaborn as sns\n",
    "import matplotlib.pyplot as plt\n",
    "import warnings\n",
    "warnings.filterwarnings('ignore')"
   ]
  },
  {
   "cell_type": "code",
   "execution_count": 5,
   "metadata": {},
   "outputs": [
    {
     "data": {
      "text/html": [
       "<div>\n",
       "<style scoped>\n",
       "    .dataframe tbody tr th:only-of-type {\n",
       "        vertical-align: middle;\n",
       "    }\n",
       "\n",
       "    .dataframe tbody tr th {\n",
       "        vertical-align: top;\n",
       "    }\n",
       "\n",
       "    .dataframe thead th {\n",
       "        text-align: right;\n",
       "    }\n",
       "</style>\n",
       "<table border=\"1\" class=\"dataframe\">\n",
       "  <thead>\n",
       "    <tr style=\"text-align: right;\">\n",
       "      <th></th>\n",
       "      <th>Age</th>\n",
       "      <th>Sex</th>\n",
       "      <th>Cp</th>\n",
       "      <th>Trestbps</th>\n",
       "      <th>Cholesterol</th>\n",
       "      <th>Fbs</th>\n",
       "      <th>Restcg</th>\n",
       "      <th>Thalach</th>\n",
       "      <th>Exang</th>\n",
       "      <th>Oldspeak</th>\n",
       "      <th>Slope</th>\n",
       "      <th>Ca</th>\n",
       "      <th>Thal</th>\n",
       "      <th>Num</th>\n",
       "    </tr>\n",
       "  </thead>\n",
       "  <tbody>\n",
       "    <tr>\n",
       "      <td>0</td>\n",
       "      <td>63</td>\n",
       "      <td>1</td>\n",
       "      <td>4</td>\n",
       "      <td>140</td>\n",
       "      <td>260</td>\n",
       "      <td>0</td>\n",
       "      <td>1</td>\n",
       "      <td>112</td>\n",
       "      <td>1</td>\n",
       "      <td>3</td>\n",
       "      <td>2</td>\n",
       "      <td>?</td>\n",
       "      <td>?</td>\n",
       "      <td>2</td>\n",
       "    </tr>\n",
       "    <tr>\n",
       "      <td>1</td>\n",
       "      <td>44</td>\n",
       "      <td>1</td>\n",
       "      <td>4</td>\n",
       "      <td>130</td>\n",
       "      <td>209</td>\n",
       "      <td>0</td>\n",
       "      <td>1</td>\n",
       "      <td>127</td>\n",
       "      <td>0</td>\n",
       "      <td>0</td>\n",
       "      <td>?</td>\n",
       "      <td>?</td>\n",
       "      <td>?</td>\n",
       "      <td>0</td>\n",
       "    </tr>\n",
       "    <tr>\n",
       "      <td>2</td>\n",
       "      <td>60</td>\n",
       "      <td>1</td>\n",
       "      <td>4</td>\n",
       "      <td>132</td>\n",
       "      <td>218</td>\n",
       "      <td>0</td>\n",
       "      <td>1</td>\n",
       "      <td>140</td>\n",
       "      <td>1</td>\n",
       "      <td>1.5</td>\n",
       "      <td>3</td>\n",
       "      <td>?</td>\n",
       "      <td>?</td>\n",
       "      <td>2</td>\n",
       "    </tr>\n",
       "    <tr>\n",
       "      <td>3</td>\n",
       "      <td>55</td>\n",
       "      <td>1</td>\n",
       "      <td>4</td>\n",
       "      <td>142</td>\n",
       "      <td>228</td>\n",
       "      <td>0</td>\n",
       "      <td>1</td>\n",
       "      <td>149</td>\n",
       "      <td>1</td>\n",
       "      <td>2.5</td>\n",
       "      <td>1</td>\n",
       "      <td>?</td>\n",
       "      <td>?</td>\n",
       "      <td>1</td>\n",
       "    </tr>\n",
       "    <tr>\n",
       "      <td>4</td>\n",
       "      <td>66</td>\n",
       "      <td>1</td>\n",
       "      <td>3</td>\n",
       "      <td>110</td>\n",
       "      <td>213</td>\n",
       "      <td>1</td>\n",
       "      <td>2</td>\n",
       "      <td>99</td>\n",
       "      <td>1</td>\n",
       "      <td>1.3</td>\n",
       "      <td>2</td>\n",
       "      <td>?</td>\n",
       "      <td>?</td>\n",
       "      <td>0</td>\n",
       "    </tr>\n",
       "    <tr>\n",
       "      <td>...</td>\n",
       "      <td>...</td>\n",
       "      <td>...</td>\n",
       "      <td>...</td>\n",
       "      <td>...</td>\n",
       "      <td>...</td>\n",
       "      <td>...</td>\n",
       "      <td>...</td>\n",
       "      <td>...</td>\n",
       "      <td>...</td>\n",
       "      <td>...</td>\n",
       "      <td>...</td>\n",
       "      <td>...</td>\n",
       "      <td>...</td>\n",
       "      <td>...</td>\n",
       "    </tr>\n",
       "    <tr>\n",
       "      <td>195</td>\n",
       "      <td>54</td>\n",
       "      <td>0</td>\n",
       "      <td>4</td>\n",
       "      <td>127</td>\n",
       "      <td>333</td>\n",
       "      <td>1</td>\n",
       "      <td>1</td>\n",
       "      <td>154</td>\n",
       "      <td>0</td>\n",
       "      <td>0</td>\n",
       "      <td>?</td>\n",
       "      <td>?</td>\n",
       "      <td>?</td>\n",
       "      <td>1</td>\n",
       "    </tr>\n",
       "    <tr>\n",
       "      <td>196</td>\n",
       "      <td>62</td>\n",
       "      <td>1</td>\n",
       "      <td>1</td>\n",
       "      <td>?</td>\n",
       "      <td>139</td>\n",
       "      <td>0</td>\n",
       "      <td>1</td>\n",
       "      <td>?</td>\n",
       "      <td>?</td>\n",
       "      <td>?</td>\n",
       "      <td>?</td>\n",
       "      <td>?</td>\n",
       "      <td>?</td>\n",
       "      <td>0</td>\n",
       "    </tr>\n",
       "    <tr>\n",
       "      <td>197</td>\n",
       "      <td>55</td>\n",
       "      <td>1</td>\n",
       "      <td>4</td>\n",
       "      <td>122</td>\n",
       "      <td>223</td>\n",
       "      <td>1</td>\n",
       "      <td>1</td>\n",
       "      <td>100</td>\n",
       "      <td>0</td>\n",
       "      <td>0</td>\n",
       "      <td>?</td>\n",
       "      <td>?</td>\n",
       "      <td>6</td>\n",
       "      <td>2</td>\n",
       "    </tr>\n",
       "    <tr>\n",
       "      <td>198</td>\n",
       "      <td>58</td>\n",
       "      <td>1</td>\n",
       "      <td>4</td>\n",
       "      <td>?</td>\n",
       "      <td>385</td>\n",
       "      <td>1</td>\n",
       "      <td>2</td>\n",
       "      <td>?</td>\n",
       "      <td>?</td>\n",
       "      <td>?</td>\n",
       "      <td>?</td>\n",
       "      <td>?</td>\n",
       "      <td>?</td>\n",
       "      <td>0</td>\n",
       "    </tr>\n",
       "    <tr>\n",
       "      <td>199</td>\n",
       "      <td>62</td>\n",
       "      <td>1</td>\n",
       "      <td>2</td>\n",
       "      <td>120</td>\n",
       "      <td>254</td>\n",
       "      <td>0</td>\n",
       "      <td>2</td>\n",
       "      <td>93</td>\n",
       "      <td>1</td>\n",
       "      <td>0</td>\n",
       "      <td>?</td>\n",
       "      <td>?</td>\n",
       "      <td>?</td>\n",
       "      <td>1</td>\n",
       "    </tr>\n",
       "  </tbody>\n",
       "</table>\n",
       "<p>200 rows × 14 columns</p>\n",
       "</div>"
      ],
      "text/plain": [
       "     Age  Sex  Cp Trestbps Cholesterol Fbs  Restcg Thalach Exang Oldspeak  \\\n",
       "0     63    1   4      140         260   0       1     112     1        3   \n",
       "1     44    1   4      130         209   0       1     127     0        0   \n",
       "2     60    1   4      132         218   0       1     140     1      1.5   \n",
       "3     55    1   4      142         228   0       1     149     1      2.5   \n",
       "4     66    1   3      110         213   1       2      99     1      1.3   \n",
       "..   ...  ...  ..      ...         ...  ..     ...     ...   ...      ...   \n",
       "195   54    0   4      127         333   1       1     154     0        0   \n",
       "196   62    1   1        ?         139   0       1       ?     ?        ?   \n",
       "197   55    1   4      122         223   1       1     100     0        0   \n",
       "198   58    1   4        ?         385   1       2       ?     ?        ?   \n",
       "199   62    1   2      120         254   0       2      93     1        0   \n",
       "\n",
       "    Slope Ca Thal  Num  \n",
       "0       2  ?    ?    2  \n",
       "1       ?  ?    ?    0  \n",
       "2       3  ?    ?    2  \n",
       "3       1  ?    ?    1  \n",
       "4       2  ?    ?    0  \n",
       "..    ... ..  ...  ...  \n",
       "195     ?  ?    ?    1  \n",
       "196     ?  ?    ?    0  \n",
       "197     ?  ?    6    2  \n",
       "198     ?  ?    ?    0  \n",
       "199     ?  ?    ?    1  \n",
       "\n",
       "[200 rows x 14 columns]"
      ]
     },
     "execution_count": 5,
     "metadata": {},
     "output_type": "execute_result"
    }
   ],
   "source": [
    "df=pd.read_csv('heartdisease_data.csv',sep=',',names=['Age','Sex','Cp','Trestbps','Cholesterol','Fbs','Restcg','Thalach','Exang','Oldspeak','Slope','Ca','Thal','Num'])\n",
    "df"
   ]
  },
  {
   "cell_type": "code",
   "execution_count": 6,
   "metadata": {},
   "outputs": [
    {
     "data": {
      "text/html": [
       "<div>\n",
       "<style scoped>\n",
       "    .dataframe tbody tr th:only-of-type {\n",
       "        vertical-align: middle;\n",
       "    }\n",
       "\n",
       "    .dataframe tbody tr th {\n",
       "        vertical-align: top;\n",
       "    }\n",
       "\n",
       "    .dataframe thead th {\n",
       "        text-align: right;\n",
       "    }\n",
       "</style>\n",
       "<table border=\"1\" class=\"dataframe\">\n",
       "  <thead>\n",
       "    <tr style=\"text-align: right;\">\n",
       "      <th></th>\n",
       "      <th>Age</th>\n",
       "      <th>Sex</th>\n",
       "      <th>Cp</th>\n",
       "      <th>Trestbps</th>\n",
       "      <th>Cholesterol</th>\n",
       "      <th>Fbs</th>\n",
       "      <th>Restcg</th>\n",
       "      <th>Thalach</th>\n",
       "      <th>Exang</th>\n",
       "      <th>Oldspeak</th>\n",
       "      <th>Slope</th>\n",
       "      <th>Ca</th>\n",
       "      <th>Thal</th>\n",
       "      <th>Num</th>\n",
       "    </tr>\n",
       "  </thead>\n",
       "  <tbody>\n",
       "    <tr>\n",
       "      <td>0</td>\n",
       "      <td>63</td>\n",
       "      <td>1</td>\n",
       "      <td>4</td>\n",
       "      <td>140</td>\n",
       "      <td>260</td>\n",
       "      <td>0</td>\n",
       "      <td>1</td>\n",
       "      <td>112</td>\n",
       "      <td>1</td>\n",
       "      <td>3</td>\n",
       "      <td>2</td>\n",
       "      <td>?</td>\n",
       "      <td>?</td>\n",
       "      <td>2</td>\n",
       "    </tr>\n",
       "    <tr>\n",
       "      <td>1</td>\n",
       "      <td>44</td>\n",
       "      <td>1</td>\n",
       "      <td>4</td>\n",
       "      <td>130</td>\n",
       "      <td>209</td>\n",
       "      <td>0</td>\n",
       "      <td>1</td>\n",
       "      <td>127</td>\n",
       "      <td>0</td>\n",
       "      <td>0</td>\n",
       "      <td>?</td>\n",
       "      <td>?</td>\n",
       "      <td>?</td>\n",
       "      <td>0</td>\n",
       "    </tr>\n",
       "    <tr>\n",
       "      <td>2</td>\n",
       "      <td>60</td>\n",
       "      <td>1</td>\n",
       "      <td>4</td>\n",
       "      <td>132</td>\n",
       "      <td>218</td>\n",
       "      <td>0</td>\n",
       "      <td>1</td>\n",
       "      <td>140</td>\n",
       "      <td>1</td>\n",
       "      <td>1.5</td>\n",
       "      <td>3</td>\n",
       "      <td>?</td>\n",
       "      <td>?</td>\n",
       "      <td>2</td>\n",
       "    </tr>\n",
       "    <tr>\n",
       "      <td>3</td>\n",
       "      <td>55</td>\n",
       "      <td>1</td>\n",
       "      <td>4</td>\n",
       "      <td>142</td>\n",
       "      <td>228</td>\n",
       "      <td>0</td>\n",
       "      <td>1</td>\n",
       "      <td>149</td>\n",
       "      <td>1</td>\n",
       "      <td>2.5</td>\n",
       "      <td>1</td>\n",
       "      <td>?</td>\n",
       "      <td>?</td>\n",
       "      <td>1</td>\n",
       "    </tr>\n",
       "    <tr>\n",
       "      <td>4</td>\n",
       "      <td>66</td>\n",
       "      <td>1</td>\n",
       "      <td>3</td>\n",
       "      <td>110</td>\n",
       "      <td>213</td>\n",
       "      <td>1</td>\n",
       "      <td>2</td>\n",
       "      <td>99</td>\n",
       "      <td>1</td>\n",
       "      <td>1.3</td>\n",
       "      <td>2</td>\n",
       "      <td>?</td>\n",
       "      <td>?</td>\n",
       "      <td>0</td>\n",
       "    </tr>\n",
       "  </tbody>\n",
       "</table>\n",
       "</div>"
      ],
      "text/plain": [
       "   Age  Sex  Cp Trestbps Cholesterol Fbs  Restcg Thalach Exang Oldspeak Slope  \\\n",
       "0   63    1   4      140         260   0       1     112     1        3     2   \n",
       "1   44    1   4      130         209   0       1     127     0        0     ?   \n",
       "2   60    1   4      132         218   0       1     140     1      1.5     3   \n",
       "3   55    1   4      142         228   0       1     149     1      2.5     1   \n",
       "4   66    1   3      110         213   1       2      99     1      1.3     2   \n",
       "\n",
       "  Ca Thal  Num  \n",
       "0  ?    ?    2  \n",
       "1  ?    ?    0  \n",
       "2  ?    ?    2  \n",
       "3  ?    ?    1  \n",
       "4  ?    ?    0  "
      ]
     },
     "execution_count": 6,
     "metadata": {},
     "output_type": "execute_result"
    }
   ],
   "source": [
    "df.head()"
   ]
  },
  {
   "cell_type": "code",
   "execution_count": 9,
   "metadata": {},
   "outputs": [
    {
     "data": {
      "text/html": [
       "<div>\n",
       "<style scoped>\n",
       "    .dataframe tbody tr th:only-of-type {\n",
       "        vertical-align: middle;\n",
       "    }\n",
       "\n",
       "    .dataframe tbody tr th {\n",
       "        vertical-align: top;\n",
       "    }\n",
       "\n",
       "    .dataframe thead th {\n",
       "        text-align: right;\n",
       "    }\n",
       "</style>\n",
       "<table border=\"1\" class=\"dataframe\">\n",
       "  <thead>\n",
       "    <tr style=\"text-align: right;\">\n",
       "      <th></th>\n",
       "      <th>Age</th>\n",
       "      <th>Sex</th>\n",
       "      <th>Cp</th>\n",
       "      <th>Trestbps</th>\n",
       "      <th>Cholesterol</th>\n",
       "      <th>Fbs</th>\n",
       "      <th>Restcg</th>\n",
       "      <th>Thalach</th>\n",
       "      <th>Exang</th>\n",
       "      <th>Oldspeak</th>\n",
       "      <th>Slope</th>\n",
       "      <th>Ca</th>\n",
       "      <th>Thal</th>\n",
       "      <th>Num</th>\n",
       "    </tr>\n",
       "  </thead>\n",
       "  <tbody>\n",
       "    <tr>\n",
       "      <td>195</td>\n",
       "      <td>54</td>\n",
       "      <td>0</td>\n",
       "      <td>4</td>\n",
       "      <td>127</td>\n",
       "      <td>333</td>\n",
       "      <td>1</td>\n",
       "      <td>1</td>\n",
       "      <td>154</td>\n",
       "      <td>0</td>\n",
       "      <td>0</td>\n",
       "      <td>?</td>\n",
       "      <td>?</td>\n",
       "      <td>?</td>\n",
       "      <td>1</td>\n",
       "    </tr>\n",
       "    <tr>\n",
       "      <td>196</td>\n",
       "      <td>62</td>\n",
       "      <td>1</td>\n",
       "      <td>1</td>\n",
       "      <td>?</td>\n",
       "      <td>139</td>\n",
       "      <td>0</td>\n",
       "      <td>1</td>\n",
       "      <td>?</td>\n",
       "      <td>?</td>\n",
       "      <td>?</td>\n",
       "      <td>?</td>\n",
       "      <td>?</td>\n",
       "      <td>?</td>\n",
       "      <td>0</td>\n",
       "    </tr>\n",
       "    <tr>\n",
       "      <td>197</td>\n",
       "      <td>55</td>\n",
       "      <td>1</td>\n",
       "      <td>4</td>\n",
       "      <td>122</td>\n",
       "      <td>223</td>\n",
       "      <td>1</td>\n",
       "      <td>1</td>\n",
       "      <td>100</td>\n",
       "      <td>0</td>\n",
       "      <td>0</td>\n",
       "      <td>?</td>\n",
       "      <td>?</td>\n",
       "      <td>6</td>\n",
       "      <td>2</td>\n",
       "    </tr>\n",
       "    <tr>\n",
       "      <td>198</td>\n",
       "      <td>58</td>\n",
       "      <td>1</td>\n",
       "      <td>4</td>\n",
       "      <td>?</td>\n",
       "      <td>385</td>\n",
       "      <td>1</td>\n",
       "      <td>2</td>\n",
       "      <td>?</td>\n",
       "      <td>?</td>\n",
       "      <td>?</td>\n",
       "      <td>?</td>\n",
       "      <td>?</td>\n",
       "      <td>?</td>\n",
       "      <td>0</td>\n",
       "    </tr>\n",
       "    <tr>\n",
       "      <td>199</td>\n",
       "      <td>62</td>\n",
       "      <td>1</td>\n",
       "      <td>2</td>\n",
       "      <td>120</td>\n",
       "      <td>254</td>\n",
       "      <td>0</td>\n",
       "      <td>2</td>\n",
       "      <td>93</td>\n",
       "      <td>1</td>\n",
       "      <td>0</td>\n",
       "      <td>?</td>\n",
       "      <td>?</td>\n",
       "      <td>?</td>\n",
       "      <td>1</td>\n",
       "    </tr>\n",
       "  </tbody>\n",
       "</table>\n",
       "</div>"
      ],
      "text/plain": [
       "     Age  Sex  Cp Trestbps Cholesterol Fbs  Restcg Thalach Exang Oldspeak  \\\n",
       "195   54    0   4      127         333   1       1     154     0        0   \n",
       "196   62    1   1        ?         139   0       1       ?     ?        ?   \n",
       "197   55    1   4      122         223   1       1     100     0        0   \n",
       "198   58    1   4        ?         385   1       2       ?     ?        ?   \n",
       "199   62    1   2      120         254   0       2      93     1        0   \n",
       "\n",
       "    Slope Ca Thal  Num  \n",
       "195     ?  ?    ?    1  \n",
       "196     ?  ?    ?    0  \n",
       "197     ?  ?    6    2  \n",
       "198     ?  ?    ?    0  \n",
       "199     ?  ?    ?    1  "
      ]
     },
     "execution_count": 9,
     "metadata": {},
     "output_type": "execute_result"
    }
   ],
   "source": [
    "df.tail()"
   ]
  },
  {
   "cell_type": "code",
   "execution_count": 7,
   "metadata": {},
   "outputs": [
    {
     "data": {
      "text/plain": [
       "(200, 14)"
      ]
     },
     "execution_count": 7,
     "metadata": {},
     "output_type": "execute_result"
    }
   ],
   "source": [
    "df.shape"
   ]
  },
  {
   "cell_type": "code",
   "execution_count": 8,
   "metadata": {},
   "outputs": [
    {
     "data": {
      "text/plain": [
       "Age             int64\n",
       "Sex             int64\n",
       "Cp              int64\n",
       "Trestbps       object\n",
       "Cholesterol    object\n",
       "Fbs            object\n",
       "Restcg          int64\n",
       "Thalach        object\n",
       "Exang          object\n",
       "Oldspeak       object\n",
       "Slope          object\n",
       "Ca             object\n",
       "Thal           object\n",
       "Num             int64\n",
       "dtype: object"
      ]
     },
     "execution_count": 8,
     "metadata": {},
     "output_type": "execute_result"
    }
   ],
   "source": [
    "df.dtypes"
   ]
  },
  {
   "cell_type": "code",
   "execution_count": 10,
   "metadata": {},
   "outputs": [
    {
     "data": {
      "text/plain": [
       "Index(['Age', 'Sex', 'Cp', 'Trestbps', 'Cholesterol', 'Fbs', 'Restcg',\n",
       "       'Thalach', 'Exang', 'Oldspeak', 'Slope', 'Ca', 'Thal', 'Num'],\n",
       "      dtype='object')"
      ]
     },
     "execution_count": 10,
     "metadata": {},
     "output_type": "execute_result"
    }
   ],
   "source": [
    "df.columns"
   ]
  },
  {
   "cell_type": "code",
   "execution_count": 11,
   "metadata": {},
   "outputs": [
    {
     "name": "stdout",
     "output_type": "stream",
     "text": [
      "<class 'pandas.core.frame.DataFrame'>\n",
      "RangeIndex: 200 entries, 0 to 199\n",
      "Data columns (total 14 columns):\n",
      "Age            200 non-null int64\n",
      "Sex            200 non-null int64\n",
      "Cp             200 non-null int64\n",
      "Trestbps       200 non-null object\n",
      "Cholesterol    200 non-null object\n",
      "Fbs            200 non-null object\n",
      "Restcg         200 non-null int64\n",
      "Thalach        200 non-null object\n",
      "Exang          200 non-null object\n",
      "Oldspeak       200 non-null object\n",
      "Slope          200 non-null object\n",
      "Ca             200 non-null object\n",
      "Thal           200 non-null object\n",
      "Num            200 non-null int64\n",
      "dtypes: int64(5), object(9)\n",
      "memory usage: 22.0+ KB\n"
     ]
    }
   ],
   "source": [
    "df.info()"
   ]
  },
  {
   "cell_type": "code",
   "execution_count": null,
   "metadata": {},
   "outputs": [],
   "source": []
  },
  {
   "cell_type": "code",
   "execution_count": 12,
   "metadata": {},
   "outputs": [
    {
     "data": {
      "text/html": [
       "<div>\n",
       "<style scoped>\n",
       "    .dataframe tbody tr th:only-of-type {\n",
       "        vertical-align: middle;\n",
       "    }\n",
       "\n",
       "    .dataframe tbody tr th {\n",
       "        vertical-align: top;\n",
       "    }\n",
       "\n",
       "    .dataframe thead th {\n",
       "        text-align: right;\n",
       "    }\n",
       "</style>\n",
       "<table border=\"1\" class=\"dataframe\">\n",
       "  <thead>\n",
       "    <tr style=\"text-align: right;\">\n",
       "      <th></th>\n",
       "      <th>Age</th>\n",
       "      <th>Sex</th>\n",
       "      <th>Cp</th>\n",
       "      <th>Restcg</th>\n",
       "      <th>Num</th>\n",
       "    </tr>\n",
       "  </thead>\n",
       "  <tbody>\n",
       "    <tr>\n",
       "      <td>count</td>\n",
       "      <td>200.000000</td>\n",
       "      <td>200.000000</td>\n",
       "      <td>200.000000</td>\n",
       "      <td>200.000000</td>\n",
       "      <td>200.000000</td>\n",
       "    </tr>\n",
       "    <tr>\n",
       "      <td>mean</td>\n",
       "      <td>59.350000</td>\n",
       "      <td>0.970000</td>\n",
       "      <td>3.505000</td>\n",
       "      <td>0.735000</td>\n",
       "      <td>1.520000</td>\n",
       "    </tr>\n",
       "    <tr>\n",
       "      <td>std</td>\n",
       "      <td>7.811697</td>\n",
       "      <td>0.171015</td>\n",
       "      <td>0.795701</td>\n",
       "      <td>0.683455</td>\n",
       "      <td>1.219441</td>\n",
       "    </tr>\n",
       "    <tr>\n",
       "      <td>min</td>\n",
       "      <td>35.000000</td>\n",
       "      <td>0.000000</td>\n",
       "      <td>1.000000</td>\n",
       "      <td>0.000000</td>\n",
       "      <td>0.000000</td>\n",
       "    </tr>\n",
       "    <tr>\n",
       "      <td>25%</td>\n",
       "      <td>55.000000</td>\n",
       "      <td>1.000000</td>\n",
       "      <td>3.000000</td>\n",
       "      <td>0.000000</td>\n",
       "      <td>0.000000</td>\n",
       "    </tr>\n",
       "    <tr>\n",
       "      <td>50%</td>\n",
       "      <td>60.000000</td>\n",
       "      <td>1.000000</td>\n",
       "      <td>4.000000</td>\n",
       "      <td>1.000000</td>\n",
       "      <td>1.000000</td>\n",
       "    </tr>\n",
       "    <tr>\n",
       "      <td>75%</td>\n",
       "      <td>64.000000</td>\n",
       "      <td>1.000000</td>\n",
       "      <td>4.000000</td>\n",
       "      <td>1.000000</td>\n",
       "      <td>3.000000</td>\n",
       "    </tr>\n",
       "    <tr>\n",
       "      <td>max</td>\n",
       "      <td>77.000000</td>\n",
       "      <td>1.000000</td>\n",
       "      <td>4.000000</td>\n",
       "      <td>2.000000</td>\n",
       "      <td>4.000000</td>\n",
       "    </tr>\n",
       "  </tbody>\n",
       "</table>\n",
       "</div>"
      ],
      "text/plain": [
       "              Age         Sex          Cp      Restcg         Num\n",
       "count  200.000000  200.000000  200.000000  200.000000  200.000000\n",
       "mean    59.350000    0.970000    3.505000    0.735000    1.520000\n",
       "std      7.811697    0.171015    0.795701    0.683455    1.219441\n",
       "min     35.000000    0.000000    1.000000    0.000000    0.000000\n",
       "25%     55.000000    1.000000    3.000000    0.000000    0.000000\n",
       "50%     60.000000    1.000000    4.000000    1.000000    1.000000\n",
       "75%     64.000000    1.000000    4.000000    1.000000    3.000000\n",
       "max     77.000000    1.000000    4.000000    2.000000    4.000000"
      ]
     },
     "execution_count": 12,
     "metadata": {},
     "output_type": "execute_result"
    }
   ],
   "source": [
    "# Summary of Statistics\n",
    "\n",
    "df.describe()"
   ]
  },
  {
   "cell_type": "code",
   "execution_count": 14,
   "metadata": {},
   "outputs": [
    {
     "data": {
      "text/plain": [
       "array([2, 0, 1, 3, 4], dtype=int64)"
      ]
     },
     "execution_count": 14,
     "metadata": {},
     "output_type": "execute_result"
    }
   ],
   "source": [
    "df.Num.unique()"
   ]
  },
  {
   "cell_type": "code",
   "execution_count": 15,
   "metadata": {},
   "outputs": [
    {
     "data": {
      "text/plain": [
       "1    56\n",
       "0    51\n",
       "3    42\n",
       "2    41\n",
       "4    10\n",
       "Name: Num, dtype: int64"
      ]
     },
     "execution_count": 15,
     "metadata": {},
     "output_type": "execute_result"
    }
   ],
   "source": [
    "df.Num.value_counts()"
   ]
  },
  {
   "cell_type": "raw",
   "metadata": {},
   "source": [
    "Key Observations: \n",
    "    \n",
    "    Target/Dependent variable has certain discrete values\n",
    "    \n",
    "    The values range from 0-4"
   ]
  },
  {
   "cell_type": "markdown",
   "metadata": {},
   "source": [
    "# Data Visualisation"
   ]
  },
  {
   "cell_type": "code",
   "execution_count": 17,
   "metadata": {},
   "outputs": [],
   "source": [
    "# To check the missing values"
   ]
  },
  {
   "cell_type": "code",
   "execution_count": 19,
   "metadata": {},
   "outputs": [],
   "source": [
    "# The missing values are in the form of a question mark which need to be treated"
   ]
  },
  {
   "cell_type": "code",
   "execution_count": 20,
   "metadata": {},
   "outputs": [],
   "source": [
    "# Dropping the Ca Column as the whole of it is filled with question marks\n",
    "\n",
    "df.drop('Ca',axis=1,inplace=True)"
   ]
  },
  {
   "cell_type": "code",
   "execution_count": 21,
   "metadata": {},
   "outputs": [
    {
     "data": {
      "text/html": [
       "<div>\n",
       "<style scoped>\n",
       "    .dataframe tbody tr th:only-of-type {\n",
       "        vertical-align: middle;\n",
       "    }\n",
       "\n",
       "    .dataframe tbody tr th {\n",
       "        vertical-align: top;\n",
       "    }\n",
       "\n",
       "    .dataframe thead th {\n",
       "        text-align: right;\n",
       "    }\n",
       "</style>\n",
       "<table border=\"1\" class=\"dataframe\">\n",
       "  <thead>\n",
       "    <tr style=\"text-align: right;\">\n",
       "      <th></th>\n",
       "      <th>Age</th>\n",
       "      <th>Sex</th>\n",
       "      <th>Cp</th>\n",
       "      <th>Trestbps</th>\n",
       "      <th>Cholesterol</th>\n",
       "      <th>Fbs</th>\n",
       "      <th>Restcg</th>\n",
       "      <th>Thalach</th>\n",
       "      <th>Exang</th>\n",
       "      <th>Oldspeak</th>\n",
       "      <th>Slope</th>\n",
       "      <th>Thal</th>\n",
       "      <th>Num</th>\n",
       "    </tr>\n",
       "  </thead>\n",
       "  <tbody>\n",
       "    <tr>\n",
       "      <td>0</td>\n",
       "      <td>63</td>\n",
       "      <td>1</td>\n",
       "      <td>4</td>\n",
       "      <td>140</td>\n",
       "      <td>260</td>\n",
       "      <td>0</td>\n",
       "      <td>1</td>\n",
       "      <td>112</td>\n",
       "      <td>1</td>\n",
       "      <td>3</td>\n",
       "      <td>2</td>\n",
       "      <td>?</td>\n",
       "      <td>2</td>\n",
       "    </tr>\n",
       "    <tr>\n",
       "      <td>1</td>\n",
       "      <td>44</td>\n",
       "      <td>1</td>\n",
       "      <td>4</td>\n",
       "      <td>130</td>\n",
       "      <td>209</td>\n",
       "      <td>0</td>\n",
       "      <td>1</td>\n",
       "      <td>127</td>\n",
       "      <td>0</td>\n",
       "      <td>0</td>\n",
       "      <td>?</td>\n",
       "      <td>?</td>\n",
       "      <td>0</td>\n",
       "    </tr>\n",
       "    <tr>\n",
       "      <td>2</td>\n",
       "      <td>60</td>\n",
       "      <td>1</td>\n",
       "      <td>4</td>\n",
       "      <td>132</td>\n",
       "      <td>218</td>\n",
       "      <td>0</td>\n",
       "      <td>1</td>\n",
       "      <td>140</td>\n",
       "      <td>1</td>\n",
       "      <td>1.5</td>\n",
       "      <td>3</td>\n",
       "      <td>?</td>\n",
       "      <td>2</td>\n",
       "    </tr>\n",
       "    <tr>\n",
       "      <td>3</td>\n",
       "      <td>55</td>\n",
       "      <td>1</td>\n",
       "      <td>4</td>\n",
       "      <td>142</td>\n",
       "      <td>228</td>\n",
       "      <td>0</td>\n",
       "      <td>1</td>\n",
       "      <td>149</td>\n",
       "      <td>1</td>\n",
       "      <td>2.5</td>\n",
       "      <td>1</td>\n",
       "      <td>?</td>\n",
       "      <td>1</td>\n",
       "    </tr>\n",
       "    <tr>\n",
       "      <td>4</td>\n",
       "      <td>66</td>\n",
       "      <td>1</td>\n",
       "      <td>3</td>\n",
       "      <td>110</td>\n",
       "      <td>213</td>\n",
       "      <td>1</td>\n",
       "      <td>2</td>\n",
       "      <td>99</td>\n",
       "      <td>1</td>\n",
       "      <td>1.3</td>\n",
       "      <td>2</td>\n",
       "      <td>?</td>\n",
       "      <td>0</td>\n",
       "    </tr>\n",
       "    <tr>\n",
       "      <td>...</td>\n",
       "      <td>...</td>\n",
       "      <td>...</td>\n",
       "      <td>...</td>\n",
       "      <td>...</td>\n",
       "      <td>...</td>\n",
       "      <td>...</td>\n",
       "      <td>...</td>\n",
       "      <td>...</td>\n",
       "      <td>...</td>\n",
       "      <td>...</td>\n",
       "      <td>...</td>\n",
       "      <td>...</td>\n",
       "      <td>...</td>\n",
       "    </tr>\n",
       "    <tr>\n",
       "      <td>195</td>\n",
       "      <td>54</td>\n",
       "      <td>0</td>\n",
       "      <td>4</td>\n",
       "      <td>127</td>\n",
       "      <td>333</td>\n",
       "      <td>1</td>\n",
       "      <td>1</td>\n",
       "      <td>154</td>\n",
       "      <td>0</td>\n",
       "      <td>0</td>\n",
       "      <td>?</td>\n",
       "      <td>?</td>\n",
       "      <td>1</td>\n",
       "    </tr>\n",
       "    <tr>\n",
       "      <td>196</td>\n",
       "      <td>62</td>\n",
       "      <td>1</td>\n",
       "      <td>1</td>\n",
       "      <td>?</td>\n",
       "      <td>139</td>\n",
       "      <td>0</td>\n",
       "      <td>1</td>\n",
       "      <td>?</td>\n",
       "      <td>?</td>\n",
       "      <td>?</td>\n",
       "      <td>?</td>\n",
       "      <td>?</td>\n",
       "      <td>0</td>\n",
       "    </tr>\n",
       "    <tr>\n",
       "      <td>197</td>\n",
       "      <td>55</td>\n",
       "      <td>1</td>\n",
       "      <td>4</td>\n",
       "      <td>122</td>\n",
       "      <td>223</td>\n",
       "      <td>1</td>\n",
       "      <td>1</td>\n",
       "      <td>100</td>\n",
       "      <td>0</td>\n",
       "      <td>0</td>\n",
       "      <td>?</td>\n",
       "      <td>6</td>\n",
       "      <td>2</td>\n",
       "    </tr>\n",
       "    <tr>\n",
       "      <td>198</td>\n",
       "      <td>58</td>\n",
       "      <td>1</td>\n",
       "      <td>4</td>\n",
       "      <td>?</td>\n",
       "      <td>385</td>\n",
       "      <td>1</td>\n",
       "      <td>2</td>\n",
       "      <td>?</td>\n",
       "      <td>?</td>\n",
       "      <td>?</td>\n",
       "      <td>?</td>\n",
       "      <td>?</td>\n",
       "      <td>0</td>\n",
       "    </tr>\n",
       "    <tr>\n",
       "      <td>199</td>\n",
       "      <td>62</td>\n",
       "      <td>1</td>\n",
       "      <td>2</td>\n",
       "      <td>120</td>\n",
       "      <td>254</td>\n",
       "      <td>0</td>\n",
       "      <td>2</td>\n",
       "      <td>93</td>\n",
       "      <td>1</td>\n",
       "      <td>0</td>\n",
       "      <td>?</td>\n",
       "      <td>?</td>\n",
       "      <td>1</td>\n",
       "    </tr>\n",
       "  </tbody>\n",
       "</table>\n",
       "<p>200 rows × 13 columns</p>\n",
       "</div>"
      ],
      "text/plain": [
       "     Age  Sex  Cp Trestbps Cholesterol Fbs  Restcg Thalach Exang Oldspeak  \\\n",
       "0     63    1   4      140         260   0       1     112     1        3   \n",
       "1     44    1   4      130         209   0       1     127     0        0   \n",
       "2     60    1   4      132         218   0       1     140     1      1.5   \n",
       "3     55    1   4      142         228   0       1     149     1      2.5   \n",
       "4     66    1   3      110         213   1       2      99     1      1.3   \n",
       "..   ...  ...  ..      ...         ...  ..     ...     ...   ...      ...   \n",
       "195   54    0   4      127         333   1       1     154     0        0   \n",
       "196   62    1   1        ?         139   0       1       ?     ?        ?   \n",
       "197   55    1   4      122         223   1       1     100     0        0   \n",
       "198   58    1   4        ?         385   1       2       ?     ?        ?   \n",
       "199   62    1   2      120         254   0       2      93     1        0   \n",
       "\n",
       "    Slope Thal  Num  \n",
       "0       2    ?    2  \n",
       "1       ?    ?    0  \n",
       "2       3    ?    2  \n",
       "3       1    ?    1  \n",
       "4       2    ?    0  \n",
       "..    ...  ...  ...  \n",
       "195     ?    ?    1  \n",
       "196     ?    ?    0  \n",
       "197     ?    6    2  \n",
       "198     ?    ?    0  \n",
       "199     ?    ?    1  \n",
       "\n",
       "[200 rows x 13 columns]"
      ]
     },
     "execution_count": 21,
     "metadata": {},
     "output_type": "execute_result"
    }
   ],
   "source": [
    "df"
   ]
  },
  {
   "cell_type": "code",
   "execution_count": null,
   "metadata": {},
   "outputs": [],
   "source": []
  },
  {
   "cell_type": "code",
   "execution_count": 25,
   "metadata": {},
   "outputs": [],
   "source": [
    "from sklearn.preprocessing import LabelEncoder\n",
    "le=LabelEncoder()\n",
    "# df['City']=le.fit_transform(df['City'])\n",
    "\n",
    "list1=['Thal','Slope','Oldspeak','Exang','Thalach','Trestbps']\n",
    "\n",
    "for val in list1:\n",
    "    df[val]=le.fit_transform(df[val].astype(str))"
   ]
  },
  {
   "cell_type": "code",
   "execution_count": 26,
   "metadata": {},
   "outputs": [
    {
     "data": {
      "text/html": [
       "<div>\n",
       "<style scoped>\n",
       "    .dataframe tbody tr th:only-of-type {\n",
       "        vertical-align: middle;\n",
       "    }\n",
       "\n",
       "    .dataframe tbody tr th {\n",
       "        vertical-align: top;\n",
       "    }\n",
       "\n",
       "    .dataframe thead th {\n",
       "        text-align: right;\n",
       "    }\n",
       "</style>\n",
       "<table border=\"1\" class=\"dataframe\">\n",
       "  <thead>\n",
       "    <tr style=\"text-align: right;\">\n",
       "      <th></th>\n",
       "      <th>Age</th>\n",
       "      <th>Sex</th>\n",
       "      <th>Cp</th>\n",
       "      <th>Trestbps</th>\n",
       "      <th>Cholesterol</th>\n",
       "      <th>Fbs</th>\n",
       "      <th>Restcg</th>\n",
       "      <th>Thalach</th>\n",
       "      <th>Exang</th>\n",
       "      <th>Oldspeak</th>\n",
       "      <th>Slope</th>\n",
       "      <th>Thal</th>\n",
       "      <th>Num</th>\n",
       "    </tr>\n",
       "  </thead>\n",
       "  <tbody>\n",
       "    <tr>\n",
       "      <td>0</td>\n",
       "      <td>63</td>\n",
       "      <td>1</td>\n",
       "      <td>4</td>\n",
       "      <td>23</td>\n",
       "      <td>260</td>\n",
       "      <td>0</td>\n",
       "      <td>1</td>\n",
       "      <td>8</td>\n",
       "      <td>1</td>\n",
       "      <td>11</td>\n",
       "      <td>1</td>\n",
       "      <td>3</td>\n",
       "      <td>2</td>\n",
       "    </tr>\n",
       "    <tr>\n",
       "      <td>1</td>\n",
       "      <td>44</td>\n",
       "      <td>1</td>\n",
       "      <td>4</td>\n",
       "      <td>17</td>\n",
       "      <td>209</td>\n",
       "      <td>0</td>\n",
       "      <td>1</td>\n",
       "      <td>21</td>\n",
       "      <td>0</td>\n",
       "      <td>1</td>\n",
       "      <td>3</td>\n",
       "      <td>3</td>\n",
       "      <td>0</td>\n",
       "    </tr>\n",
       "    <tr>\n",
       "      <td>2</td>\n",
       "      <td>60</td>\n",
       "      <td>1</td>\n",
       "      <td>4</td>\n",
       "      <td>18</td>\n",
       "      <td>218</td>\n",
       "      <td>0</td>\n",
       "      <td>1</td>\n",
       "      <td>30</td>\n",
       "      <td>1</td>\n",
       "      <td>6</td>\n",
       "      <td>2</td>\n",
       "      <td>3</td>\n",
       "      <td>2</td>\n",
       "    </tr>\n",
       "    <tr>\n",
       "      <td>3</td>\n",
       "      <td>55</td>\n",
       "      <td>1</td>\n",
       "      <td>4</td>\n",
       "      <td>24</td>\n",
       "      <td>228</td>\n",
       "      <td>0</td>\n",
       "      <td>1</td>\n",
       "      <td>35</td>\n",
       "      <td>1</td>\n",
       "      <td>10</td>\n",
       "      <td>0</td>\n",
       "      <td>3</td>\n",
       "      <td>1</td>\n",
       "    </tr>\n",
       "    <tr>\n",
       "      <td>4</td>\n",
       "      <td>66</td>\n",
       "      <td>1</td>\n",
       "      <td>3</td>\n",
       "      <td>5</td>\n",
       "      <td>213</td>\n",
       "      <td>1</td>\n",
       "      <td>2</td>\n",
       "      <td>58</td>\n",
       "      <td>1</td>\n",
       "      <td>5</td>\n",
       "      <td>1</td>\n",
       "      <td>3</td>\n",
       "      <td>0</td>\n",
       "    </tr>\n",
       "    <tr>\n",
       "      <td>...</td>\n",
       "      <td>...</td>\n",
       "      <td>...</td>\n",
       "      <td>...</td>\n",
       "      <td>...</td>\n",
       "      <td>...</td>\n",
       "      <td>...</td>\n",
       "      <td>...</td>\n",
       "      <td>...</td>\n",
       "      <td>...</td>\n",
       "      <td>...</td>\n",
       "      <td>...</td>\n",
       "      <td>...</td>\n",
       "      <td>...</td>\n",
       "    </tr>\n",
       "    <tr>\n",
       "      <td>195</td>\n",
       "      <td>54</td>\n",
       "      <td>0</td>\n",
       "      <td>4</td>\n",
       "      <td>15</td>\n",
       "      <td>333</td>\n",
       "      <td>1</td>\n",
       "      <td>1</td>\n",
       "      <td>38</td>\n",
       "      <td>0</td>\n",
       "      <td>1</td>\n",
       "      <td>3</td>\n",
       "      <td>3</td>\n",
       "      <td>1</td>\n",
       "    </tr>\n",
       "    <tr>\n",
       "      <td>196</td>\n",
       "      <td>62</td>\n",
       "      <td>1</td>\n",
       "      <td>1</td>\n",
       "      <td>40</td>\n",
       "      <td>139</td>\n",
       "      <td>0</td>\n",
       "      <td>1</td>\n",
       "      <td>59</td>\n",
       "      <td>2</td>\n",
       "      <td>14</td>\n",
       "      <td>3</td>\n",
       "      <td>3</td>\n",
       "      <td>0</td>\n",
       "    </tr>\n",
       "    <tr>\n",
       "      <td>197</td>\n",
       "      <td>55</td>\n",
       "      <td>1</td>\n",
       "      <td>4</td>\n",
       "      <td>11</td>\n",
       "      <td>223</td>\n",
       "      <td>1</td>\n",
       "      <td>1</td>\n",
       "      <td>0</td>\n",
       "      <td>0</td>\n",
       "      <td>1</td>\n",
       "      <td>3</td>\n",
       "      <td>1</td>\n",
       "      <td>2</td>\n",
       "    </tr>\n",
       "    <tr>\n",
       "      <td>198</td>\n",
       "      <td>58</td>\n",
       "      <td>1</td>\n",
       "      <td>4</td>\n",
       "      <td>40</td>\n",
       "      <td>385</td>\n",
       "      <td>1</td>\n",
       "      <td>2</td>\n",
       "      <td>59</td>\n",
       "      <td>2</td>\n",
       "      <td>14</td>\n",
       "      <td>3</td>\n",
       "      <td>3</td>\n",
       "      <td>0</td>\n",
       "    </tr>\n",
       "    <tr>\n",
       "      <td>199</td>\n",
       "      <td>62</td>\n",
       "      <td>1</td>\n",
       "      <td>2</td>\n",
       "      <td>10</td>\n",
       "      <td>254</td>\n",
       "      <td>0</td>\n",
       "      <td>2</td>\n",
       "      <td>53</td>\n",
       "      <td>1</td>\n",
       "      <td>1</td>\n",
       "      <td>3</td>\n",
       "      <td>3</td>\n",
       "      <td>1</td>\n",
       "    </tr>\n",
       "  </tbody>\n",
       "</table>\n",
       "<p>200 rows × 13 columns</p>\n",
       "</div>"
      ],
      "text/plain": [
       "     Age  Sex  Cp  Trestbps Cholesterol Fbs  Restcg  Thalach  Exang  Oldspeak  \\\n",
       "0     63    1   4        23         260   0       1        8      1        11   \n",
       "1     44    1   4        17         209   0       1       21      0         1   \n",
       "2     60    1   4        18         218   0       1       30      1         6   \n",
       "3     55    1   4        24         228   0       1       35      1        10   \n",
       "4     66    1   3         5         213   1       2       58      1         5   \n",
       "..   ...  ...  ..       ...         ...  ..     ...      ...    ...       ...   \n",
       "195   54    0   4        15         333   1       1       38      0         1   \n",
       "196   62    1   1        40         139   0       1       59      2        14   \n",
       "197   55    1   4        11         223   1       1        0      0         1   \n",
       "198   58    1   4        40         385   1       2       59      2        14   \n",
       "199   62    1   2        10         254   0       2       53      1         1   \n",
       "\n",
       "     Slope  Thal  Num  \n",
       "0        1     3    2  \n",
       "1        3     3    0  \n",
       "2        2     3    2  \n",
       "3        0     3    1  \n",
       "4        1     3    0  \n",
       "..     ...   ...  ...  \n",
       "195      3     3    1  \n",
       "196      3     3    0  \n",
       "197      3     1    2  \n",
       "198      3     3    0  \n",
       "199      3     3    1  \n",
       "\n",
       "[200 rows x 13 columns]"
      ]
     },
     "execution_count": 26,
     "metadata": {},
     "output_type": "execute_result"
    }
   ],
   "source": [
    "df"
   ]
  },
  {
   "cell_type": "code",
   "execution_count": 27,
   "metadata": {},
   "outputs": [
    {
     "data": {
      "text/plain": [
       "Age             int64\n",
       "Sex             int64\n",
       "Cp              int64\n",
       "Trestbps        int32\n",
       "Cholesterol    object\n",
       "Fbs            object\n",
       "Restcg          int64\n",
       "Thalach         int32\n",
       "Exang           int32\n",
       "Oldspeak        int32\n",
       "Slope           int32\n",
       "Thal            int32\n",
       "Num             int64\n",
       "dtype: object"
      ]
     },
     "execution_count": 27,
     "metadata": {},
     "output_type": "execute_result"
    }
   ],
   "source": [
    "df.dtypes"
   ]
  },
  {
   "cell_type": "markdown",
   "metadata": {},
   "source": [
    "# Data Visualisation"
   ]
  },
  {
   "cell_type": "code",
   "execution_count": 28,
   "metadata": {},
   "outputs": [],
   "source": [
    "# To check the missing values"
   ]
  },
  {
   "cell_type": "code",
   "execution_count": 29,
   "metadata": {},
   "outputs": [
    {
     "data": {
      "text/plain": [
       "<matplotlib.axes._subplots.AxesSubplot at 0x2b02b057408>"
      ]
     },
     "execution_count": 29,
     "metadata": {},
     "output_type": "execute_result"
    },
    {
     "data": {
      "image/png": "[encoded data removed]",
      "text/plain": [
       "<Figure size 432x288 with 2 Axes>"
      ]
     },
     "metadata": {
      "needs_background": "light"
     },
     "output_type": "display_data"
    }
   ],
   "source": [
    "sns.heatmap(df.isnull())"
   ]
  },
  {
   "cell_type": "raw",
   "metadata": {},
   "source": [
    "Dataset has no missing values. If there were any we would have noticed the difference in colour shade"
   ]
  },
  {
   "cell_type": "markdown",
   "metadata": {},
   "source": [
    "# Checking out the correlation"
   ]
  },
  {
   "cell_type": "code",
   "execution_count": 30,
   "metadata": {},
   "outputs": [
    {
     "data": {
      "text/html": [
       "<div>\n",
       "<style scoped>\n",
       "    .dataframe tbody tr th:only-of-type {\n",
       "        vertical-align: middle;\n",
       "    }\n",
       "\n",
       "    .dataframe tbody tr th {\n",
       "        vertical-align: top;\n",
       "    }\n",
       "\n",
       "    .dataframe thead th {\n",
       "        text-align: right;\n",
       "    }\n",
       "</style>\n",
       "<table border=\"1\" class=\"dataframe\">\n",
       "  <thead>\n",
       "    <tr style=\"text-align: right;\">\n",
       "      <th></th>\n",
       "      <th>Age</th>\n",
       "      <th>Sex</th>\n",
       "      <th>Cp</th>\n",
       "      <th>Trestbps</th>\n",
       "      <th>Restcg</th>\n",
       "      <th>Thalach</th>\n",
       "      <th>Exang</th>\n",
       "      <th>Oldspeak</th>\n",
       "      <th>Slope</th>\n",
       "      <th>Thal</th>\n",
       "      <th>Num</th>\n",
       "    </tr>\n",
       "  </thead>\n",
       "  <tbody>\n",
       "    <tr>\n",
       "      <td>Age</td>\n",
       "      <td>1.000000</td>\n",
       "      <td>0.034230</td>\n",
       "      <td>-0.038280</td>\n",
       "      <td>0.148099</td>\n",
       "      <td>0.002400</td>\n",
       "      <td>-0.046396</td>\n",
       "      <td>0.082938</td>\n",
       "      <td>0.093662</td>\n",
       "      <td>-0.006737</td>\n",
       "      <td>0.091226</td>\n",
       "      <td>0.287289</td>\n",
       "    </tr>\n",
       "    <tr>\n",
       "      <td>Sex</td>\n",
       "      <td>0.034230</td>\n",
       "      <td>1.000000</td>\n",
       "      <td>0.038036</td>\n",
       "      <td>0.041150</td>\n",
       "      <td>0.060621</td>\n",
       "      <td>0.003599</td>\n",
       "      <td>0.041667</td>\n",
       "      <td>0.103045</td>\n",
       "      <td>0.042436</td>\n",
       "      <td>0.023543</td>\n",
       "      <td>0.147470</td>\n",
       "    </tr>\n",
       "    <tr>\n",
       "      <td>Cp</td>\n",
       "      <td>-0.038280</td>\n",
       "      <td>0.038036</td>\n",
       "      <td>1.000000</td>\n",
       "      <td>-0.108668</td>\n",
       "      <td>0.034790</td>\n",
       "      <td>-0.245349</td>\n",
       "      <td>-0.082640</td>\n",
       "      <td>-0.191398</td>\n",
       "      <td>-0.184734</td>\n",
       "      <td>-0.088548</td>\n",
       "      <td>0.168210</td>\n",
       "    </tr>\n",
       "    <tr>\n",
       "      <td>Trestbps</td>\n",
       "      <td>0.148099</td>\n",
       "      <td>0.041150</td>\n",
       "      <td>-0.108668</td>\n",
       "      <td>1.000000</td>\n",
       "      <td>0.059974</td>\n",
       "      <td>0.535110</td>\n",
       "      <td>0.692549</td>\n",
       "      <td>0.596663</td>\n",
       "      <td>0.402865</td>\n",
       "      <td>0.201645</td>\n",
       "      <td>0.089706</td>\n",
       "    </tr>\n",
       "    <tr>\n",
       "      <td>Restcg</td>\n",
       "      <td>0.002400</td>\n",
       "      <td>0.060621</td>\n",
       "      <td>0.034790</td>\n",
       "      <td>0.059974</td>\n",
       "      <td>1.000000</td>\n",
       "      <td>0.053506</td>\n",
       "      <td>-0.017562</td>\n",
       "      <td>-0.043575</td>\n",
       "      <td>0.123095</td>\n",
       "      <td>-0.038291</td>\n",
       "      <td>-0.032800</td>\n",
       "    </tr>\n",
       "    <tr>\n",
       "      <td>Thalach</td>\n",
       "      <td>-0.046396</td>\n",
       "      <td>0.003599</td>\n",
       "      <td>-0.245349</td>\n",
       "      <td>0.535110</td>\n",
       "      <td>0.053506</td>\n",
       "      <td>1.000000</td>\n",
       "      <td>0.561034</td>\n",
       "      <td>0.537406</td>\n",
       "      <td>0.379412</td>\n",
       "      <td>0.098711</td>\n",
       "      <td>-0.134816</td>\n",
       "    </tr>\n",
       "    <tr>\n",
       "      <td>Exang</td>\n",
       "      <td>0.082938</td>\n",
       "      <td>0.041667</td>\n",
       "      <td>-0.082640</td>\n",
       "      <td>0.692549</td>\n",
       "      <td>-0.017562</td>\n",
       "      <td>0.561034</td>\n",
       "      <td>1.000000</td>\n",
       "      <td>0.709429</td>\n",
       "      <td>0.330265</td>\n",
       "      <td>0.235572</td>\n",
       "      <td>0.070802</td>\n",
       "    </tr>\n",
       "    <tr>\n",
       "      <td>Oldspeak</td>\n",
       "      <td>0.093662</td>\n",
       "      <td>0.103045</td>\n",
       "      <td>-0.191398</td>\n",
       "      <td>0.596663</td>\n",
       "      <td>-0.043575</td>\n",
       "      <td>0.537406</td>\n",
       "      <td>0.709429</td>\n",
       "      <td>1.000000</td>\n",
       "      <td>0.196717</td>\n",
       "      <td>0.272264</td>\n",
       "      <td>0.148194</td>\n",
       "    </tr>\n",
       "    <tr>\n",
       "      <td>Slope</td>\n",
       "      <td>-0.006737</td>\n",
       "      <td>0.042436</td>\n",
       "      <td>-0.184734</td>\n",
       "      <td>0.402865</td>\n",
       "      <td>0.123095</td>\n",
       "      <td>0.379412</td>\n",
       "      <td>0.330265</td>\n",
       "      <td>0.196717</td>\n",
       "      <td>1.000000</td>\n",
       "      <td>0.017328</td>\n",
       "      <td>-0.117605</td>\n",
       "    </tr>\n",
       "    <tr>\n",
       "      <td>Thal</td>\n",
       "      <td>0.091226</td>\n",
       "      <td>0.023543</td>\n",
       "      <td>-0.088548</td>\n",
       "      <td>0.201645</td>\n",
       "      <td>-0.038291</td>\n",
       "      <td>0.098711</td>\n",
       "      <td>0.235572</td>\n",
       "      <td>0.272264</td>\n",
       "      <td>0.017328</td>\n",
       "      <td>1.000000</td>\n",
       "      <td>0.112256</td>\n",
       "    </tr>\n",
       "    <tr>\n",
       "      <td>Num</td>\n",
       "      <td>0.287289</td>\n",
       "      <td>0.147470</td>\n",
       "      <td>0.168210</td>\n",
       "      <td>0.089706</td>\n",
       "      <td>-0.032800</td>\n",
       "      <td>-0.134816</td>\n",
       "      <td>0.070802</td>\n",
       "      <td>0.148194</td>\n",
       "      <td>-0.117605</td>\n",
       "      <td>0.112256</td>\n",
       "      <td>1.000000</td>\n",
       "    </tr>\n",
       "  </tbody>\n",
       "</table>\n",
       "</div>"
      ],
      "text/plain": [
       "               Age       Sex        Cp  Trestbps    Restcg   Thalach  \\\n",
       "Age       1.000000  0.034230 -0.038280  0.148099  0.002400 -0.046396   \n",
       "Sex       0.034230  1.000000  0.038036  0.041150  0.060621  0.003599   \n",
       "Cp       -0.038280  0.038036  1.000000 -0.108668  0.034790 -0.245349   \n",
       "Trestbps  0.148099  0.041150 -0.108668  1.000000  0.059974  0.535110   \n",
       "Restcg    0.002400  0.060621  0.034790  0.059974  1.000000  0.053506   \n",
       "Thalach  -0.046396  0.003599 -0.245349  0.535110  0.053506  1.000000   \n",
       "Exang     0.082938  0.041667 -0.082640  0.692549 -0.017562  0.561034   \n",
       "Oldspeak  0.093662  0.103045 -0.191398  0.596663 -0.043575  0.537406   \n",
       "Slope    -0.006737  0.042436 -0.184734  0.402865  0.123095  0.379412   \n",
       "Thal      0.091226  0.023543 -0.088548  0.201645 -0.038291  0.098711   \n",
       "Num       0.287289  0.147470  0.168210  0.089706 -0.032800 -0.134816   \n",
       "\n",
       "             Exang  Oldspeak     Slope      Thal       Num  \n",
       "Age       0.082938  0.093662 -0.006737  0.091226  0.287289  \n",
       "Sex       0.041667  0.103045  0.042436  0.023543  0.147470  \n",
       "Cp       -0.082640 -0.191398 -0.184734 -0.088548  0.168210  \n",
       "Trestbps  0.692549  0.596663  0.402865  0.201645  0.089706  \n",
       "Restcg   -0.017562 -0.043575  0.123095 -0.038291 -0.032800  \n",
       "Thalach   0.561034  0.537406  0.379412  0.098711 -0.134816  \n",
       "Exang     1.000000  0.709429  0.330265  0.235572  0.070802  \n",
       "Oldspeak  0.709429  1.000000  0.196717  0.272264  0.148194  \n",
       "Slope     0.330265  0.196717  1.000000  0.017328 -0.117605  \n",
       "Thal      0.235572  0.272264  0.017328  1.000000  0.112256  \n",
       "Num       0.070802  0.148194 -0.117605  0.112256  1.000000  "
      ]
     },
     "execution_count": 30,
     "metadata": {},
     "output_type": "execute_result"
    }
   ],
   "source": [
    "dfcor=df.corr()\n",
    "dfcor"
   ]
  },
  {
   "cell_type": "code",
   "execution_count": 31,
   "metadata": {},
   "outputs": [
    {
     "data": {
      "text/plain": [
       "<matplotlib.axes._subplots.AxesSubplot at 0x2b02b14b448>"
      ]
     },
     "execution_count": 31,
     "metadata": {},
     "output_type": "execute_result"
    },
    {
     "data": {
      "image/png": "[encoded data removed]",
      "text/plain": [
       "<Figure size 432x288 with 2 Axes>"
      ]
     },
     "metadata": {
      "needs_background": "light"
     },
     "output_type": "display_data"
    }
   ],
   "source": [
    "sns.heatmap(dfcor)"
   ]
  },
  {
   "cell_type": "code",
   "execution_count": 32,
   "metadata": {},
   "outputs": [
    {
     "data": {
      "text/plain": [
       "<matplotlib.axes._subplots.AxesSubplot at 0x2b02b204388>"
      ]
     },
     "execution_count": 32,
     "metadata": {},
     "output_type": "execute_result"
    },
    {
     "data": {
      "image/png": "[encoded data removed]",
      "text/plain": [
       "<Figure size 720x432 with 2 Axes>"
      ]
     },
     "metadata": {
      "needs_background": "light"
     },
     "output_type": "display_data"
    }
   ],
   "source": [
    "plt.figure(figsize=(10,6))\n",
    "sns.heatmap(dfcor,annot=True)"
   ]
  },
  {
   "cell_type": "code",
   "execution_count": null,
   "metadata": {},
   "outputs": [],
   "source": [
    "Key Observations:\n",
    "    \n",
    "    Variables like Age,Sex, Thal are quite strongly correlated with the heart disease.\n",
    "    \n",
    "    Other variables like CP,Trestbps,Cholesterol are not as strongly correlated like Age,Sex and Thal \n",
    "    \n",
    "    Fbs has little impact on the occurence of Heart Disease\n",
    "    \n",
    "    \n",
    "    \n",
    "    "
   ]
  },
  {
   "cell_type": "markdown",
   "metadata": {},
   "source": [
    "# Bivariate Analysis"
   ]
  },
  {
   "cell_type": "code",
   "execution_count": 33,
   "metadata": {},
   "outputs": [],
   "source": [
    "# Let us now examine the impact of various input variables on the target/output variable i.e. num"
   ]
  },
  {
   "cell_type": "code",
   "execution_count": 34,
   "metadata": {},
   "outputs": [
    {
     "data": {
      "image/png": "[encoded data removed]",
      "text/plain": [
       "<Figure size 432x288 with 1 Axes>"
      ]
     },
     "metadata": {
      "needs_background": "light"
     },
     "output_type": "display_data"
    }
   ],
   "source": [
    "# Age Vs Num\n",
    "\n",
    "\n",
    "sns.lineplot(x=df['Age'],y=df['Num'],data=df)\n",
    "plt.show()\n",
    "\n",
    "# As age increases the propensity for heart disease increases"
   ]
  },
  {
   "cell_type": "code",
   "execution_count": 35,
   "metadata": {},
   "outputs": [
    {
     "data": {
      "image/png": "[encoded data removed]",
      "text/plain": [
       "<Figure size 432x288 with 1 Axes>"
      ]
     },
     "metadata": {
      "needs_background": "light"
     },
     "output_type": "display_data"
    }
   ],
   "source": [
    "# Sex vs Num\n",
    "\n",
    "sns.lineplot(x=df['Sex'],y=df['Num'],data=df)\n",
    "plt.show()\n",
    "\n",
    "# 1 sex has the highes propensity for heart disease"
   ]
  },
  {
   "cell_type": "code",
   "execution_count": 36,
   "metadata": {},
   "outputs": [
    {
     "data": {
      "image/png": "[encoded data removed]",
      "text/plain": [
       "<Figure size 432x288 with 1 Axes>"
      ]
     },
     "metadata": {
      "needs_background": "light"
     },
     "output_type": "display_data"
    }
   ],
   "source": [
    "# Cp vs Num\n",
    "\n",
    "sns.lineplot(x=df['Cp'],y=df['Num'],data=df)\n",
    "plt.show()\n"
   ]
  },
  {
   "cell_type": "code",
   "execution_count": 37,
   "metadata": {},
   "outputs": [
    {
     "data": {
      "image/png": "[encoded data removed]",
      "text/plain": [
       "<Figure size 432x288 with 1 Axes>"
      ]
     },
     "metadata": {
      "needs_background": "light"
     },
     "output_type": "display_data"
    }
   ],
   "source": [
    "# Trestbps vs Num\n",
    "\n",
    "sns.lineplot(x=df['Trestbps'],y=df['Num'],data=df)\n",
    "plt.show()\n",
    "\n",
    "# As Trestbps increases the chances of heart diseases increase"
   ]
  },
  {
   "cell_type": "code",
   "execution_count": 50,
   "metadata": {},
   "outputs": [
    {
     "data": {
      "image/png": "[encoded data removed]",
      "text/plain": [
       "<Figure size 432x288 with 1 Axes>"
      ]
     },
     "metadata": {
      "needs_background": "light"
     },
     "output_type": "display_data"
    }
   ],
   "source": [
    "# Cholesterol vs Num\n",
    "\n",
    "sns.lineplot(x=df['Cholesterol'],y=df['Num'],data=df)\n",
    "plt.show()\n",
    "\n",
    "# As cholesterol levels in the body increase the chances of heart disease increase upto a certain level\n",
    "\n"
   ]
  },
  {
   "cell_type": "code",
   "execution_count": 40,
   "metadata": {},
   "outputs": [
    {
     "data": {
      "image/png": "[encoded data removed]",
      "text/plain": [
       "<Figure size 432x288 with 1 Axes>"
      ]
     },
     "metadata": {
      "needs_background": "light"
     },
     "output_type": "display_data"
    }
   ],
   "source": [
    "# Fbs vs Num\n",
    "\n",
    "\n",
    "sns.lineplot(x=df['Fbs'],y=df['Num'],data=df)\n",
    "plt.show()\n",
    "\n",
    "# Fbs seems to have little impact on the occurence of Heart Disease\n"
   ]
  },
  {
   "cell_type": "code",
   "execution_count": 42,
   "metadata": {},
   "outputs": [
    {
     "data": {
      "image/png": "[encoded data removed]",
      "text/plain": [
       "<Figure size 432x288 with 1 Axes>"
      ]
     },
     "metadata": {
      "needs_background": "light"
     },
     "output_type": "display_data"
    }
   ],
   "source": [
    "# Restcg vs Num\n",
    "\n",
    "\n",
    "sns.lineplot(x=df['Restcg'],y=df['Num'],data=df)\n",
    "plt.show()\n",
    "\n",
    "# Restcg has a stable- inverse relationship with heart disease. As the Restcg levels increase the chances of heart disease reduce"
   ]
  },
  {
   "cell_type": "code",
   "execution_count": 43,
   "metadata": {},
   "outputs": [
    {
     "data": {
      "image/png": "[encoded data removed]",
      "text/plain": [
       "<Figure size 432x288 with 1 Axes>"
      ]
     },
     "metadata": {
      "needs_background": "light"
     },
     "output_type": "display_data"
    }
   ],
   "source": [
    "# Thalach vs Num\n",
    "\n",
    "\n",
    "sns.lineplot(x=df['Thalach'],y=df['Num'],data=df)\n",
    "plt.show()"
   ]
  },
  {
   "cell_type": "code",
   "execution_count": 44,
   "metadata": {},
   "outputs": [
    {
     "data": {
      "image/png": "[encoded data removed]",
      "text/plain": [
       "<Figure size 432x288 with 1 Axes>"
      ]
     },
     "metadata": {
      "needs_background": "light"
     },
     "output_type": "display_data"
    }
   ],
   "source": [
    "# Exang vs Num\n",
    "\n",
    "\n",
    "sns.lineplot(x=df['Exang'],y=df['Num'],data=df)\n",
    "plt.show()\n",
    "\n",
    "# Upto a certain level Exang has a positive correlation with the heart disease i.e. increase in Exang leads to increase in Heart disease but after that increasing levels of Exang don't have any impact on the Heart Disease"
   ]
  },
  {
   "cell_type": "code",
   "execution_count": 45,
   "metadata": {},
   "outputs": [
    {
     "data": {
      "image/png": "[encoded data removed]",
      "text/plain": [
       "<Figure size 432x288 with 1 Axes>"
      ]
     },
     "metadata": {
      "needs_background": "light"
     },
     "output_type": "display_data"
    }
   ],
   "source": [
    "# Oldspeak vs Num\n",
    "\n",
    "sns.lineplot(x=df['Oldspeak'],y=df['Num'],data=df)\n",
    "plt.show()"
   ]
  },
  {
   "cell_type": "code",
   "execution_count": 46,
   "metadata": {},
   "outputs": [
    {
     "data": {
      "image/png": "[encoded data removed]",
      "text/plain": [
       "<Figure size 432x288 with 1 Axes>"
      ]
     },
     "metadata": {
      "needs_background": "light"
     },
     "output_type": "display_data"
    }
   ],
   "source": [
    "# Slope vs Num \n",
    "\n",
    "sns.lineplot(x=df['Slope'],y=df['Num'],data=df)\n",
    "plt.show()\n"
   ]
  },
  {
   "cell_type": "code",
   "execution_count": 48,
   "metadata": {},
   "outputs": [
    {
     "data": {
      "image/png": "[encoded data removed]",
      "text/plain": [
       "<Figure size 432x288 with 1 Axes>"
      ]
     },
     "metadata": {
      "needs_background": "light"
     },
     "output_type": "display_data"
    }
   ],
   "source": [
    "# Thal vs Num\n",
    "\n",
    "sns.lineplot(x=df['Thal'],y=df['Num'],data=df)\n",
    "plt.show()\n",
    "\n",
    "# As Thal increases the chances of heart disease increase"
   ]
  },
  {
   "cell_type": "raw",
   "metadata": {},
   "source": [
    "Observations:\n",
    "    \n",
    "    Variables like Age,Sex, Thal are quite strongly correlated with the heart disease.\n",
    "    \n",
    "    Other variables like CP,Trestbps,Cholesterol are not as strongly correlated like Age,Sex and Thal \n",
    "    \n",
    "    Fbs has little impact on the occurence of Heart Disease\n",
    "    \n",
    "    Restcg has a stable- inverse relationship with heart disease. As the Restcg levels increase the chances of heart disease reduce\n",
    "    \n",
    "    Upto a certain level Exang has a positive correlation with the heart disease i.e. increase in Exang leads to increase in Heart disease but after that increasing levels of Exang don't have any impact on the Heart Disease\n",
    "    "
   ]
  },
  {
   "cell_type": "code",
   "execution_count": 57,
   "metadata": {},
   "outputs": [],
   "source": [
    "# Cholesterol and Fbs have String/Object data. So let us convert it into integer/numeric data using a Label Encoder"
   ]
  },
  {
   "cell_type": "code",
   "execution_count": 58,
   "metadata": {},
   "outputs": [],
   "source": [
    "list2=['Cholesterol','Fbs']\n",
    "\n",
    "for val in list2:\n",
    "    df[val]=le.fit_transform(df[val].astype(str))"
   ]
  },
  {
   "cell_type": "code",
   "execution_count": 59,
   "metadata": {},
   "outputs": [
    {
     "data": {
      "text/html": [
       "<div>\n",
       "<style scoped>\n",
       "    .dataframe tbody tr th:only-of-type {\n",
       "        vertical-align: middle;\n",
       "    }\n",
       "\n",
       "    .dataframe tbody tr th {\n",
       "        vertical-align: top;\n",
       "    }\n",
       "\n",
       "    .dataframe thead th {\n",
       "        text-align: right;\n",
       "    }\n",
       "</style>\n",
       "<table border=\"1\" class=\"dataframe\">\n",
       "  <thead>\n",
       "    <tr style=\"text-align: right;\">\n",
       "      <th></th>\n",
       "      <th>Age</th>\n",
       "      <th>Sex</th>\n",
       "      <th>Cp</th>\n",
       "      <th>Trestbps</th>\n",
       "      <th>Cholesterol</th>\n",
       "      <th>Fbs</th>\n",
       "      <th>Restcg</th>\n",
       "      <th>Thalach</th>\n",
       "      <th>Exang</th>\n",
       "      <th>Oldspeak</th>\n",
       "      <th>Slope</th>\n",
       "      <th>Thal</th>\n",
       "      <th>Num</th>\n",
       "    </tr>\n",
       "  </thead>\n",
       "  <tbody>\n",
       "    <tr>\n",
       "      <td>0</td>\n",
       "      <td>63</td>\n",
       "      <td>1</td>\n",
       "      <td>4</td>\n",
       "      <td>23</td>\n",
       "      <td>62</td>\n",
       "      <td>0</td>\n",
       "      <td>1</td>\n",
       "      <td>8</td>\n",
       "      <td>1</td>\n",
       "      <td>11</td>\n",
       "      <td>1</td>\n",
       "      <td>3</td>\n",
       "      <td>2</td>\n",
       "    </tr>\n",
       "    <tr>\n",
       "      <td>1</td>\n",
       "      <td>44</td>\n",
       "      <td>1</td>\n",
       "      <td>4</td>\n",
       "      <td>17</td>\n",
       "      <td>28</td>\n",
       "      <td>0</td>\n",
       "      <td>1</td>\n",
       "      <td>21</td>\n",
       "      <td>0</td>\n",
       "      <td>1</td>\n",
       "      <td>3</td>\n",
       "      <td>3</td>\n",
       "      <td>0</td>\n",
       "    </tr>\n",
       "    <tr>\n",
       "      <td>2</td>\n",
       "      <td>60</td>\n",
       "      <td>1</td>\n",
       "      <td>4</td>\n",
       "      <td>18</td>\n",
       "      <td>35</td>\n",
       "      <td>0</td>\n",
       "      <td>1</td>\n",
       "      <td>30</td>\n",
       "      <td>1</td>\n",
       "      <td>6</td>\n",
       "      <td>2</td>\n",
       "      <td>3</td>\n",
       "      <td>2</td>\n",
       "    </tr>\n",
       "    <tr>\n",
       "      <td>3</td>\n",
       "      <td>55</td>\n",
       "      <td>1</td>\n",
       "      <td>4</td>\n",
       "      <td>24</td>\n",
       "      <td>45</td>\n",
       "      <td>0</td>\n",
       "      <td>1</td>\n",
       "      <td>35</td>\n",
       "      <td>1</td>\n",
       "      <td>10</td>\n",
       "      <td>0</td>\n",
       "      <td>3</td>\n",
       "      <td>1</td>\n",
       "    </tr>\n",
       "    <tr>\n",
       "      <td>4</td>\n",
       "      <td>66</td>\n",
       "      <td>1</td>\n",
       "      <td>3</td>\n",
       "      <td>5</td>\n",
       "      <td>31</td>\n",
       "      <td>1</td>\n",
       "      <td>2</td>\n",
       "      <td>58</td>\n",
       "      <td>1</td>\n",
       "      <td>5</td>\n",
       "      <td>1</td>\n",
       "      <td>3</td>\n",
       "      <td>0</td>\n",
       "    </tr>\n",
       "    <tr>\n",
       "      <td>...</td>\n",
       "      <td>...</td>\n",
       "      <td>...</td>\n",
       "      <td>...</td>\n",
       "      <td>...</td>\n",
       "      <td>...</td>\n",
       "      <td>...</td>\n",
       "      <td>...</td>\n",
       "      <td>...</td>\n",
       "      <td>...</td>\n",
       "      <td>...</td>\n",
       "      <td>...</td>\n",
       "      <td>...</td>\n",
       "      <td>...</td>\n",
       "    </tr>\n",
       "    <tr>\n",
       "      <td>195</td>\n",
       "      <td>54</td>\n",
       "      <td>0</td>\n",
       "      <td>4</td>\n",
       "      <td>15</td>\n",
       "      <td>91</td>\n",
       "      <td>1</td>\n",
       "      <td>1</td>\n",
       "      <td>38</td>\n",
       "      <td>0</td>\n",
       "      <td>1</td>\n",
       "      <td>3</td>\n",
       "      <td>3</td>\n",
       "      <td>1</td>\n",
       "    </tr>\n",
       "    <tr>\n",
       "      <td>196</td>\n",
       "      <td>62</td>\n",
       "      <td>1</td>\n",
       "      <td>1</td>\n",
       "      <td>40</td>\n",
       "      <td>2</td>\n",
       "      <td>0</td>\n",
       "      <td>1</td>\n",
       "      <td>59</td>\n",
       "      <td>2</td>\n",
       "      <td>14</td>\n",
       "      <td>3</td>\n",
       "      <td>3</td>\n",
       "      <td>0</td>\n",
       "    </tr>\n",
       "    <tr>\n",
       "      <td>197</td>\n",
       "      <td>55</td>\n",
       "      <td>1</td>\n",
       "      <td>4</td>\n",
       "      <td>11</td>\n",
       "      <td>40</td>\n",
       "      <td>1</td>\n",
       "      <td>1</td>\n",
       "      <td>0</td>\n",
       "      <td>0</td>\n",
       "      <td>1</td>\n",
       "      <td>3</td>\n",
       "      <td>1</td>\n",
       "      <td>2</td>\n",
       "    </tr>\n",
       "    <tr>\n",
       "      <td>198</td>\n",
       "      <td>58</td>\n",
       "      <td>1</td>\n",
       "      <td>4</td>\n",
       "      <td>40</td>\n",
       "      <td>97</td>\n",
       "      <td>1</td>\n",
       "      <td>2</td>\n",
       "      <td>59</td>\n",
       "      <td>2</td>\n",
       "      <td>14</td>\n",
       "      <td>3</td>\n",
       "      <td>3</td>\n",
       "      <td>0</td>\n",
       "    </tr>\n",
       "    <tr>\n",
       "      <td>199</td>\n",
       "      <td>62</td>\n",
       "      <td>1</td>\n",
       "      <td>2</td>\n",
       "      <td>10</td>\n",
       "      <td>59</td>\n",
       "      <td>0</td>\n",
       "      <td>2</td>\n",
       "      <td>53</td>\n",
       "      <td>1</td>\n",
       "      <td>1</td>\n",
       "      <td>3</td>\n",
       "      <td>3</td>\n",
       "      <td>1</td>\n",
       "    </tr>\n",
       "  </tbody>\n",
       "</table>\n",
       "<p>200 rows × 13 columns</p>\n",
       "</div>"
      ],
      "text/plain": [
       "     Age  Sex  Cp  Trestbps  Cholesterol  Fbs  Restcg  Thalach  Exang  \\\n",
       "0     63    1   4        23           62    0       1        8      1   \n",
       "1     44    1   4        17           28    0       1       21      0   \n",
       "2     60    1   4        18           35    0       1       30      1   \n",
       "3     55    1   4        24           45    0       1       35      1   \n",
       "4     66    1   3         5           31    1       2       58      1   \n",
       "..   ...  ...  ..       ...          ...  ...     ...      ...    ...   \n",
       "195   54    0   4        15           91    1       1       38      0   \n",
       "196   62    1   1        40            2    0       1       59      2   \n",
       "197   55    1   4        11           40    1       1        0      0   \n",
       "198   58    1   4        40           97    1       2       59      2   \n",
       "199   62    1   2        10           59    0       2       53      1   \n",
       "\n",
       "     Oldspeak  Slope  Thal  Num  \n",
       "0          11      1     3    2  \n",
       "1           1      3     3    0  \n",
       "2           6      2     3    2  \n",
       "3          10      0     3    1  \n",
       "4           5      1     3    0  \n",
       "..        ...    ...   ...  ...  \n",
       "195         1      3     3    1  \n",
       "196        14      3     3    0  \n",
       "197         1      3     1    2  \n",
       "198        14      3     3    0  \n",
       "199         1      3     3    1  \n",
       "\n",
       "[200 rows x 13 columns]"
      ]
     },
     "execution_count": 59,
     "metadata": {},
     "output_type": "execute_result"
    }
   ],
   "source": [
    "df"
   ]
  },
  {
   "cell_type": "code",
   "execution_count": 60,
   "metadata": {},
   "outputs": [
    {
     "data": {
      "text/plain": [
       "Age            int64\n",
       "Sex            int64\n",
       "Cp             int64\n",
       "Trestbps       int32\n",
       "Cholesterol    int32\n",
       "Fbs            int32\n",
       "Restcg         int64\n",
       "Thalach        int32\n",
       "Exang          int32\n",
       "Oldspeak       int32\n",
       "Slope          int32\n",
       "Thal           int32\n",
       "Num            int64\n",
       "dtype: object"
      ]
     },
     "execution_count": 60,
     "metadata": {},
     "output_type": "execute_result"
    }
   ],
   "source": [
    "df.dtypes"
   ]
  },
  {
   "cell_type": "markdown",
   "metadata": {},
   "source": [
    "# To check the distribution of skewness"
   ]
  },
  {
   "cell_type": "code",
   "execution_count": 105,
   "metadata": {},
   "outputs": [],
   "source": [
    "collist=df.columns.values\n",
    "ncol=12\n",
    "nrows=10"
   ]
  },
  {
   "cell_type": "code",
   "execution_count": 107,
   "metadata": {},
   "outputs": [
    {
     "data": {
      "image/png": "[encoded data removed]",
      "text/plain": [
       "<Figure size 2592x2592 with 13 Axes>"
      ]
     },
     "metadata": {
      "needs_background": "light"
     },
     "output_type": "display_data"
    }
   ],
   "source": [
    "plt.figure(figsize=(36,36))\n",
    "for i in range(0,len(collist)):\n",
    "    plt.subplot(nrows,ncol,i+1)\n",
    "    sns.distplot(df[collist[i]])"
   ]
  },
  {
   "cell_type": "code",
   "execution_count": null,
   "metadata": {},
   "outputs": [],
   "source": []
  },
  {
   "cell_type": "code",
   "execution_count": 61,
   "metadata": {},
   "outputs": [],
   "source": [
    "# Separating the input and output variables\n",
    "\n",
    "df_x=df.drop(columns=['Num'])\n",
    "df_x\n",
    "y=df[['Num']]"
   ]
  },
  {
   "cell_type": "code",
   "execution_count": 62,
   "metadata": {},
   "outputs": [],
   "source": [
    "# Scaling the input variable\n",
    "from sklearn.preprocessing import StandardScaler\n",
    "sc=StandardScaler()\n",
    "x=sc.fit_transform(df_x)\n",
    "x=pd.DataFrame(x,columns=df_x.columns)"
   ]
  },
  {
   "cell_type": "code",
   "execution_count": 63,
   "metadata": {},
   "outputs": [],
   "source": [
    "from sklearn.model_selection import train_test_split,cross_val_score\n",
    "x_train,x_test,y_train,y_test=train_test_split(x,y,random_state=9,test_size=0.20,stratify=y)"
   ]
  },
  {
   "cell_type": "code",
   "execution_count": 64,
   "metadata": {},
   "outputs": [
    {
     "name": "stdout",
     "output_type": "stream",
     "text": [
      "(160, 12) (40, 12)\n"
     ]
    }
   ],
   "source": [
    "print(x_train.shape,x_test.shape)"
   ]
  },
  {
   "cell_type": "code",
   "execution_count": 65,
   "metadata": {},
   "outputs": [
    {
     "name": "stdout",
     "output_type": "stream",
     "text": [
      "(160, 1) (40, 1)\n"
     ]
    }
   ],
   "source": [
    "print(y_train.shape,y_test.shape)"
   ]
  },
  {
   "cell_type": "code",
   "execution_count": 72,
   "metadata": {},
   "outputs": [],
   "source": [
    "from sklearn.linear_model import LogisticRegression\n",
    "from sklearn.naive_bayes import GaussianNB\n",
    "from sklearn.svm import SVC\n",
    "from sklearn.tree import DecisionTreeClassifier\n",
    "from sklearn.ensemble import RandomForestClassifier\n",
    "from sklearn.metrics import accuracy_score,confusion_matrix,classification_report"
   ]
  },
  {
   "cell_type": "code",
   "execution_count": 73,
   "metadata": {},
   "outputs": [
    {
     "name": "stdout",
     "output_type": "stream",
     "text": [
      "0.275\n",
      "[[5 3 0 2 0]\n",
      " [3 5 3 0 0]\n",
      " [1 3 0 4 0]\n",
      " [3 2 3 1 0]\n",
      " [1 0 0 1 0]]\n",
      "              precision    recall  f1-score   support\n",
      "\n",
      "           0       0.38      0.50      0.43        10\n",
      "           1       0.38      0.45      0.42        11\n",
      "           2       0.00      0.00      0.00         8\n",
      "           3       0.12      0.11      0.12         9\n",
      "           4       0.00      0.00      0.00         2\n",
      "\n",
      "    accuracy                           0.28        40\n",
      "   macro avg       0.18      0.21      0.19        40\n",
      "weighted avg       0.23      0.28      0.25        40\n",
      "\n"
     ]
    }
   ],
   "source": [
    "lr=LogisticRegression()\n",
    "lr.fit(x_train,y_train)\n",
    "lr.score(x_train,y_train)\n",
    "predlr=lr.predict(x_test)\n",
    "print(accuracy_score(y_test,predlr))\n",
    "print(confusion_matrix(y_test,predlr))\n",
    "print(classification_report(y_test,predlr))"
   ]
  },
  {
   "cell_type": "code",
   "execution_count": 74,
   "metadata": {},
   "outputs": [
    {
     "name": "stdout",
     "output_type": "stream",
     "text": [
      "0.1\n",
      "[[0 0 3 3 4]\n",
      " [0 0 9 1 1]\n",
      " [0 0 1 0 7]\n",
      " [0 0 4 1 4]\n",
      " [0 0 0 0 2]]\n",
      "              precision    recall  f1-score   support\n",
      "\n",
      "           0       0.00      0.00      0.00        10\n",
      "           1       0.00      0.00      0.00        11\n",
      "           2       0.06      0.12      0.08         8\n",
      "           3       0.20      0.11      0.14         9\n",
      "           4       0.11      1.00      0.20         2\n",
      "\n",
      "    accuracy                           0.10        40\n",
      "   macro avg       0.07      0.25      0.08        40\n",
      "weighted avg       0.06      0.10      0.06        40\n",
      "\n"
     ]
    }
   ],
   "source": [
    "gnb=GaussianNB()\n",
    "gnb.fit(x_train,y_train)\n",
    "gnb.score(x_train,y_train)\n",
    "predgnb=gnb.predict(x_test)\n",
    "print(accuracy_score(y_test,predgnb))\n",
    "print(confusion_matrix(y_test,predgnb))\n",
    "print(classification_report(y_test,predgnb))"
   ]
  },
  {
   "cell_type": "code",
   "execution_count": 75,
   "metadata": {},
   "outputs": [
    {
     "name": "stdout",
     "output_type": "stream",
     "text": [
      "0.3\n",
      "[[6 3 0 1 0]\n",
      " [3 4 4 0 0]\n",
      " [0 3 1 4 0]\n",
      " [4 3 1 1 0]\n",
      " [1 0 0 1 0]]\n",
      "              precision    recall  f1-score   support\n",
      "\n",
      "           0       0.43      0.60      0.50        10\n",
      "           1       0.31      0.36      0.33        11\n",
      "           2       0.17      0.12      0.14         8\n",
      "           3       0.14      0.11      0.12         9\n",
      "           4       0.00      0.00      0.00         2\n",
      "\n",
      "    accuracy                           0.30        40\n",
      "   macro avg       0.21      0.24      0.22        40\n",
      "weighted avg       0.26      0.30      0.27        40\n",
      "\n"
     ]
    }
   ],
   "source": [
    "svc=SVC()\n",
    "svc.fit(x_train,y_train)\n",
    "svc.score(x_train,y_train)\n",
    "predsvc=svc.predict(x_test)\n",
    "print(accuracy_score(y_test,predsvc))\n",
    "print(confusion_matrix(y_test,predsvc))\n",
    "print(classification_report(y_test,predsvc))"
   ]
  },
  {
   "cell_type": "code",
   "execution_count": 76,
   "metadata": {},
   "outputs": [
    {
     "name": "stdout",
     "output_type": "stream",
     "text": [
      "0.25\n",
      "[[6 1 2 1 0]\n",
      " [2 4 2 3 0]\n",
      " [2 5 0 1 0]\n",
      " [0 5 4 0 0]\n",
      " [1 1 0 0 0]]\n",
      "              precision    recall  f1-score   support\n",
      "\n",
      "           0       0.55      0.60      0.57        10\n",
      "           1       0.25      0.36      0.30        11\n",
      "           2       0.00      0.00      0.00         8\n",
      "           3       0.00      0.00      0.00         9\n",
      "           4       0.00      0.00      0.00         2\n",
      "\n",
      "    accuracy                           0.25        40\n",
      "   macro avg       0.16      0.19      0.17        40\n",
      "weighted avg       0.21      0.25      0.22        40\n",
      "\n"
     ]
    }
   ],
   "source": [
    "dt=DecisionTreeClassifier()\n",
    "dt.fit(x_train,y_train)\n",
    "dt.score(x_train,y_train)\n",
    "preddt=dt.predict(x_test)\n",
    "print(accuracy_score(y_test,preddt))\n",
    "print(confusion_matrix(y_test,preddt))\n",
    "print(classification_report(y_test,preddt))"
   ]
  },
  {
   "cell_type": "code",
   "execution_count": 77,
   "metadata": {},
   "outputs": [
    {
     "name": "stdout",
     "output_type": "stream",
     "text": [
      "0.15\n",
      "[[3 2 0 5 0]\n",
      " [6 1 1 3 0]\n",
      " [1 3 1 3 0]\n",
      " [4 1 2 1 1]\n",
      " [1 0 0 1 0]]\n",
      "              precision    recall  f1-score   support\n",
      "\n",
      "           0       0.20      0.30      0.24        10\n",
      "           1       0.14      0.09      0.11        11\n",
      "           2       0.25      0.12      0.17         8\n",
      "           3       0.08      0.11      0.09         9\n",
      "           4       0.00      0.00      0.00         2\n",
      "\n",
      "    accuracy                           0.15        40\n",
      "   macro avg       0.13      0.13      0.12        40\n",
      "weighted avg       0.16      0.15      0.14        40\n",
      "\n"
     ]
    }
   ],
   "source": [
    "from sklearn.ensemble import AdaBoostClassifier\n",
    "ad=AdaBoostClassifier(n_estimators=50)\n",
    "ad.fit(x_train,y_train)\n",
    "ad_predict=ad.predict(x_test)\n",
    "print(accuracy_score(y_test,ad_predict))\n",
    "print(confusion_matrix(y_test,ad_predict))\n",
    "print(classification_report(y_test,ad_predict))\n"
   ]
  },
  {
   "cell_type": "code",
   "execution_count": 78,
   "metadata": {},
   "outputs": [
    {
     "name": "stdout",
     "output_type": "stream",
     "text": [
      "0.3\n",
      "[[6 1 1 2 0]\n",
      " [4 4 3 0 0]\n",
      " [2 4 1 1 0]\n",
      " [5 3 0 1 0]\n",
      " [0 1 0 1 0]]\n",
      "              precision    recall  f1-score   support\n",
      "\n",
      "           0       0.35      0.60      0.44        10\n",
      "           1       0.31      0.36      0.33        11\n",
      "           2       0.20      0.12      0.15         8\n",
      "           3       0.20      0.11      0.14         9\n",
      "           4       0.00      0.00      0.00         2\n",
      "\n",
      "    accuracy                           0.30        40\n",
      "   macro avg       0.21      0.24      0.21        40\n",
      "weighted avg       0.26      0.30      0.27        40\n",
      "\n"
     ]
    }
   ],
   "source": [
    "from sklearn.ensemble import RandomForestClassifier\n",
    "rf=RandomForestClassifier(n_estimators=100,random_state=42)\n",
    "rf.fit(x_train,y_train)\n",
    "predrf=rf.predict(x_test)\n",
    "print(accuracy_score(y_test,predrf))\n",
    "print(confusion_matrix(y_test,predrf))\n",
    "print(classification_report(y_test,predrf))"
   ]
  },
  {
   "cell_type": "code",
   "execution_count": 79,
   "metadata": {},
   "outputs": [
    {
     "data": {
      "text/plain": [
       "<matplotlib.axes._subplots.AxesSubplot at 0x2b02d1c3a08>"
      ]
     },
     "execution_count": 79,
     "metadata": {},
     "output_type": "execute_result"
    },
    {
     "data": {
      "image/png": "[encoded data removed]",
      "text/plain": [
       "<Figure size 432x288 with 1 Axes>"
      ]
     },
     "metadata": {
      "needs_background": "light"
     },
     "output_type": "display_data"
    }
   ],
   "source": [
    "feat_importances = pd.Series(rf.feature_importances_, index=x.columns)\n",
    "feat_importances = feat_importances.nlargest(20)\n",
    "feat_importances.plot(kind='barh')"
   ]
  },
  {
   "cell_type": "raw",
   "metadata": {},
   "source": [
    " The factors which contribute the most towards Heart Disease (in descending order) are 'Cholesterol','Age','Thalach','Trestbps','Oldspeak','Restcg','Cp','Fbs','Slope','Exang','Thal'& 'Sex'"
   ]
  },
  {
   "cell_type": "code",
   "execution_count": 80,
   "metadata": {},
   "outputs": [
    {
     "name": "stdout",
     "output_type": "stream",
     "text": [
      "0.325\n",
      "[[ 0  6  0  4  0]\n",
      " [ 0 10  0  1  0]\n",
      " [ 0  4  0  4  0]\n",
      " [ 0  6  0  3  0]\n",
      " [ 0  1  0  1  0]]\n",
      "              precision    recall  f1-score   support\n",
      "\n",
      "           0       0.00      0.00      0.00        10\n",
      "           1       0.37      0.91      0.53        11\n",
      "           2       0.00      0.00      0.00         8\n",
      "           3       0.23      0.33      0.27         9\n",
      "           4       0.00      0.00      0.00         2\n",
      "\n",
      "    accuracy                           0.33        40\n",
      "   macro avg       0.12      0.25      0.16        40\n",
      "weighted avg       0.15      0.33      0.21        40\n",
      "\n"
     ]
    }
   ],
   "source": [
    "# Create adaboost classifier object\n",
    "\n",
    "ad=AdaBoostClassifier(n_estimators=50,base_estimator=svc,algorithm='SAMME')\n",
    "ad.fit(x_train,y_train)\n",
    "ad_predict=ad.predict(x_test)\n",
    "print(accuracy_score(y_test,ad_predict))\n",
    "print(confusion_matrix(y_test,ad_predict))\n",
    "print(classification_report(y_test,ad_predict))\n",
    "\n"
   ]
  },
  {
   "cell_type": "code",
   "execution_count": 81,
   "metadata": {},
   "outputs": [
    {
     "name": "stdout",
     "output_type": "stream",
     "text": [
      "0.275\n",
      "[[ 0 10  0  0  0]\n",
      " [ 0 11  0  0  0]\n",
      " [ 0  8  0  0  0]\n",
      " [ 0  9  0  0  0]\n",
      " [ 0  2  0  0  0]]\n",
      "              precision    recall  f1-score   support\n",
      "\n",
      "           0       0.00      0.00      0.00        10\n",
      "           1       0.28      1.00      0.43        11\n",
      "           2       0.00      0.00      0.00         8\n",
      "           3       0.00      0.00      0.00         9\n",
      "           4       0.00      0.00      0.00         2\n",
      "\n",
      "    accuracy                           0.28        40\n",
      "   macro avg       0.06      0.20      0.09        40\n",
      "weighted avg       0.08      0.28      0.12        40\n",
      "\n"
     ]
    }
   ],
   "source": [
    "svc=SVC(probability=True,kernel='linear')\n",
    "\n",
    "# create adaboost classifier object\n",
    "\n",
    "ad=AdaBoostClassifier(n_estimators=50,base_estimator=svc)\n",
    "ad.fit(x_train,y_train)\n",
    "ad_predict=ad.predict(x_test)\n",
    "print(accuracy_score(y_test,ad_predict))\n",
    "print(confusion_matrix(y_test,ad_predict))\n",
    "print(classification_report(y_test,ad_predict))"
   ]
  },
  {
   "cell_type": "code",
   "execution_count": 82,
   "metadata": {},
   "outputs": [
    {
     "name": "stdout",
     "output_type": "stream",
     "text": [
      "0.275\n",
      "[[4 2 1 3 0]\n",
      " [4 4 3 0 0]\n",
      " [2 4 1 1 0]\n",
      " [1 4 2 2 0]\n",
      " [0 1 0 1 0]]\n",
      "              precision    recall  f1-score   support\n",
      "\n",
      "           0       0.36      0.40      0.38        10\n",
      "           1       0.27      0.36      0.31        11\n",
      "           2       0.14      0.12      0.13         8\n",
      "           3       0.29      0.22      0.25         9\n",
      "           4       0.00      0.00      0.00         2\n",
      "\n",
      "    accuracy                           0.28        40\n",
      "   macro avg       0.21      0.22      0.21        40\n",
      "weighted avg       0.26      0.28      0.26        40\n",
      "\n"
     ]
    }
   ],
   "source": [
    "from sklearn.ensemble import GradientBoostingClassifier\n",
    "gb=GradientBoostingClassifier()\n",
    "gb.fit(x_train,y_train)\n",
    "gb_predict=gb.predict(x_test)\n",
    "print(accuracy_score(y_test,gb_predict))\n",
    "print(confusion_matrix(y_test,gb_predict))\n",
    "print(classification_report(y_test,gb_predict))"
   ]
  },
  {
   "cell_type": "code",
   "execution_count": 97,
   "metadata": {},
   "outputs": [
    {
     "name": "stdout",
     "output_type": "stream",
     "text": [
      "0.25\n",
      "[[6 1 2 1 0]\n",
      " [2 4 2 3 0]\n",
      " [2 5 0 1 0]\n",
      " [0 5 4 0 0]\n",
      " [1 1 0 0 0]]\n",
      "              precision    recall  f1-score   support\n",
      "\n",
      "           0       0.55      0.60      0.57        10\n",
      "           1       0.25      0.36      0.30        11\n",
      "           2       0.00      0.00      0.00         8\n",
      "           3       0.00      0.00      0.00         9\n",
      "           4       0.00      0.00      0.00         2\n",
      "\n",
      "    accuracy                           0.25        40\n",
      "   macro avg       0.16      0.19      0.17        40\n",
      "weighted avg       0.21      0.25      0.22        40\n",
      "\n"
     ]
    }
   ],
   "source": [
    "from sklearn.neighbors import KNeighborsClassifier\n",
    "knn=KNeighborsClassifier()\n",
    "knn.fit(x_train,y_train)\n",
    "knn.score(x_train,y_train)\n",
    "predknn=knn.predict(x_test)\n",
    "print(accuracy_score(y_test,predknn))\n",
    "print(confusion_matrix(y_test,predknn))\n",
    "print(classification_report(y_test,predknn))"
   ]
  },
  {
   "cell_type": "code",
   "execution_count": null,
   "metadata": {},
   "outputs": [],
   "source": []
  },
  {
   "cell_type": "code",
   "execution_count": 83,
   "metadata": {},
   "outputs": [
    {
     "name": "stdout",
     "output_type": "stream",
     "text": [
      "[0.11627907 0.225      0.07692308 0.1025641  0.20512821]\n",
      "0.1451788908765653 0.058779938282454335\n"
     ]
    }
   ],
   "source": [
    "from sklearn.model_selection import cross_val_score\n",
    "\n",
    "lrscores=cross_val_score(gnb,x,y,cv=5)\n",
    "print(lrscores)\n",
    "print(lrscores.mean(),lrscores.std())"
   ]
  },
  {
   "cell_type": "code",
   "execution_count": 84,
   "metadata": {},
   "outputs": [
    {
     "name": "stdout",
     "output_type": "stream",
     "text": [
      "[0.11627907 0.225      0.07692308 0.1025641  0.20512821]\n",
      "0.1451788908765653 0.058779938282454335\n"
     ]
    }
   ],
   "source": [
    "from sklearn.model_selection import cross_val_score\n",
    "\n",
    "gnbscores=cross_val_score(gnb,x,y,cv=5)\n",
    "print(gnbscores)\n",
    "print(gnbscores.mean(),gnbscores.std())"
   ]
  },
  {
   "cell_type": "code",
   "execution_count": 85,
   "metadata": {},
   "outputs": [
    {
     "name": "stdout",
     "output_type": "stream",
     "text": [
      "[0.25581395 0.3        0.35897436 0.41025641 0.30769231]\n",
      "0.3265474060822898 0.05314547106675656\n"
     ]
    }
   ],
   "source": [
    "from sklearn.model_selection import cross_val_score\n",
    "\n",
    "svcscores=cross_val_score(svc,x,y,cv=5)\n",
    "print(svcscores)\n",
    "print(svcscores.mean(),svcscores.std())"
   ]
  },
  {
   "cell_type": "code",
   "execution_count": 86,
   "metadata": {},
   "outputs": [
    {
     "name": "stdout",
     "output_type": "stream",
     "text": [
      "[0.39534884 0.35       0.23076923 0.28205128 0.38461538]\n",
      "0.3285569469290399 0.06291060938430358\n"
     ]
    }
   ],
   "source": [
    "from sklearn.model_selection import cross_val_score\n",
    "\n",
    "dtscores=cross_val_score(dt,x,y,cv=5)\n",
    "print(dtscores)\n",
    "print(dtscores.mean(),dtscores.std())"
   ]
  },
  {
   "cell_type": "code",
   "execution_count": 87,
   "metadata": {},
   "outputs": [
    {
     "name": "stdout",
     "output_type": "stream",
     "text": [
      "[0.27906977 0.275      0.28205128 0.28205128 0.28205128]\n",
      "0.2800447227191413 0.0027741162977035156\n"
     ]
    }
   ],
   "source": [
    "from sklearn.model_selection import cross_val_score\n",
    "\n",
    "adscores=cross_val_score(ad,x,y,cv=5)\n",
    "print(adscores)\n",
    "print(adscores.mean(),adscores.std())"
   ]
  },
  {
   "cell_type": "code",
   "execution_count": 88,
   "metadata": {},
   "outputs": [
    {
     "name": "stdout",
     "output_type": "stream",
     "text": [
      "[0.27906977 0.25       0.25641026 0.35897436 0.35897436]\n",
      "0.300685748360167 0.04856282355869179\n"
     ]
    }
   ],
   "source": [
    "from sklearn.model_selection import cross_val_score\n",
    "\n",
    "rfscores=cross_val_score(rf,x,y,cv=5)\n",
    "print(rfscores)\n",
    "print(rfscores.mean(),rfscores.std())"
   ]
  },
  {
   "cell_type": "code",
   "execution_count": 89,
   "metadata": {},
   "outputs": [
    {
     "name": "stdout",
     "output_type": "stream",
     "text": [
      "[0.3255814  0.325      0.23076923 0.46153846 0.28205128]\n",
      "0.3249880739415623 0.07663826594064907\n"
     ]
    }
   ],
   "source": [
    "from sklearn.model_selection import cross_val_score\n",
    "\n",
    "gbscores=cross_val_score(gb,x,y,cv=5)\n",
    "print(gbscores)\n",
    "print(gbscores.mean(),gbscores.std())"
   ]
  },
  {
   "cell_type": "code",
   "execution_count": 99,
   "metadata": {},
   "outputs": [
    {
     "name": "stdout",
     "output_type": "stream",
     "text": [
      "[0.34883721 0.25       0.35897436 0.35897436 0.23076923]\n",
      "0.3095110316040549 0.05688870510519577\n"
     ]
    }
   ],
   "source": [
    "from sklearn.model_selection import cross_val_score\n",
    "\n",
    "knnscores=cross_val_score(knn,x,y,cv=5)\n",
    "print(knnscores)\n",
    "print(knnscores.mean(),knnscores.std())"
   ]
  },
  {
   "cell_type": "code",
   "execution_count": null,
   "metadata": {},
   "outputs": [],
   "source": []
  },
  {
   "cell_type": "markdown",
   "metadata": {},
   "source": [
    "# The biggest advantage of Random forest classifier is that it provides the relative importance of input variables. For this Heart Disease Prediction problem, we are interested in knowing which factors contributes the most towards Heart Disease and Random Forest can provide us with this information. Thats the reason why we included this classification.\n"
   ]
  },
  {
   "cell_type": "raw",
   "metadata": {},
   "source": [
    "Random Forest helped us identify the Top 10 most important indicators (in descending order) as 1)Cholesterol, 2)Age, 3)Thalach, 4)Trestbps, 5)Oldspeak ,6)Restcg,7)Cp,8) Fbs, 9)Slope,10)Exang"
   ]
  },
  {
   "cell_type": "code",
   "execution_count": null,
   "metadata": {},
   "outputs": [],
   "source": []
  },
  {
   "cell_type": "code",
   "execution_count": 100,
   "metadata": {},
   "outputs": [
    {
     "name": "stderr",
     "output_type": "stream",
     "text": [
      "C:\\ProgramData\\Anaconda3\\lib\\site-packages\\sklearn\\externals\\joblib\\__init__.py:15: DeprecationWarning: sklearn.externals.joblib is deprecated in 0.21 and will be removed in 0.23. Please import this functionality directly from joblib, which can be installed with: pip install joblib. If this warning is raised when loading pickled models, you may need to re-serialize those models with scikit-learn 0.21+.\n",
      "  warnings.warn(msg, category=DeprecationWarning)\n"
     ]
    }
   ],
   "source": [
    "from sklearn.externals import joblib"
   ]
  },
  {
   "cell_type": "code",
   "execution_count": 101,
   "metadata": {},
   "outputs": [
    {
     "data": {
      "text/plain": [
       "['Heart_Disease_Prediction.csv']"
      ]
     },
     "execution_count": 101,
     "metadata": {},
     "output_type": "execute_result"
    }
   ],
   "source": [
    "joblib.dump(rf,'Heart_Disease_Prediction.csv')"
   ]
  },
  {
   "cell_type": "code",
   "execution_count": 102,
   "metadata": {},
   "outputs": [],
   "source": [
    "model=joblib.load('Heart_Disease_Prediction.csv')"
   ]
  },
  {
   "cell_type": "code",
   "execution_count": 103,
   "metadata": {},
   "outputs": [
    {
     "data": {
      "text/plain": [
       "array([1, 0, 1, 2, 1, 3, 0, 1, 0, 0, 0, 1, 1, 1, 0, 0, 3, 3, 0, 3, 0, 1,\n",
       "       2, 1, 0, 0, 2, 1, 0, 0, 1, 0, 2, 3, 2, 0, 0, 1, 0, 1], dtype=int64)"
      ]
     },
     "execution_count": 103,
     "metadata": {},
     "output_type": "execute_result"
    }
   ],
   "source": [
    "model.predict(x_test)"
   ]
  },
  {
   "cell_type": "code",
   "execution_count": null,
   "metadata": {},
   "outputs": [],
   "source": []
  },
  {
   "cell_type": "code",
   "execution_count": null,
   "metadata": {},
   "outputs": [],
   "source": []
  },
  {
   "cell_type": "code",
   "execution_count": null,
   "metadata": {},
   "outputs": [],
   "source": []
  },
  {
   "cell_type": "code",
   "execution_count": null,
   "metadata": {},
   "outputs": [],
   "source": []
  },
  {
   "cell_type": "code",
   "execution_count": null,
   "metadata": {},
   "outputs": [],
   "source": []
  },
  {
   "cell_type": "code",
   "execution_count": null,
   "metadata": {},
   "outputs": [],
   "source": []
  },
  {
   "cell_type": "code",
   "execution_count": null,
   "metadata": {},
   "outputs": [],
   "source": []
  },
  {
   "cell_type": "code",
   "execution_count": null,
   "metadata": {},
   "outputs": [],
   "source": []
  },
  {
   "cell_type": "code",
   "execution_count": null,
   "metadata": {},
   "outputs": [],
   "source": []
  },
  {
   "cell_type": "code",
   "execution_count": null,
   "metadata": {},
   "outputs": [],
   "source": []
  },
  {
   "cell_type": "code",
   "execution_count": null,
   "metadata": {},
   "outputs": [],
   "source": []
  },
  {
   "cell_type": "code",
   "execution_count": null,
   "metadata": {},
   "outputs": [],
   "source": []
  },
  {
   "cell_type": "code",
   "execution_count": null,
   "metadata": {},
   "outputs": [],
   "source": []
  }
 ],
 "metadata": {
  "kernelspec": {
   "display_name": "Python 3",
   "language": "python",
   "name": "python3"
  },
  "language_info": {
   "codemirror_mode": {
    "name": "ipython",
    "version": 3
   },
   "file_extension": ".py",
   "mimetype": "text/x-python",
   "name": "python",
   "nbconvert_exporter": "python",
   "pygments_lexer": "ipython3",
   "version": "3.7.4"
  }
 },
 "nbformat": 4,
 "nbformat_minor": 2
}
